{
 "cells": [
  {
   "cell_type": "markdown",
   "id": "5e4f2b04-fd1a-4ea3-999f-727cd59aa5a7",
   "metadata": {},
   "source": [
    "# ERA5 correction \n",
    "Adapted from Eric Gagliano's notebook here: https://github.com/gbrencher/AMATH563-InSAR-denoiser/blob/main/data-processing/era5_correction_individual_igrams.ipynb\n",
    "\n",
    "Note: This code will only work if in the MintPy source code (tropo_pyaps3.py) we comment out lines 657 (ref_y, ref_x = int(atr['REF_Y']), int(atr['REF_X'])) and 666 (data -= data[ref_y, ref_x]). This code subtracts out the value at the reference point. Since we haven't set a reference point in the metadata of these interferograms, it won't work. We can handle this later"
   ]
  },
  {
   "cell_type": "code",
   "execution_count": null,
   "id": "d6bb8266-7658-43cd-8c6f-63f7af671106",
   "metadata": {},
   "outputs": [],
   "source": [
    "import mintpy\n",
    "from pathlib import Path\n",
    "from dateutil.parser import parse as parse_date\n",
    "from pathlib import Path\n",
    "from typing import List, Union\n",
    "from osgeo import gdal\n",
    "from pathlib import Path\n",
    "from typing import List, Union\n",
    "import os\n",
    "import glob\n",
    "import matplotlib.pyplot as plt\n",
    "from mintpy.utils import ptime, readfile, writefile, utils as ut"
   ]
  },
  {
   "cell_type": "code",
   "execution_count": null,
   "id": "cc502296-0c55-4fed-815f-1662dba4870e",
   "metadata": {},
   "outputs": [],
   "source": [
    "orbit = 'DT56'\n",
    "year_list = ['2018', '2019', '2020', '2021', '2022']\n",
    "frame = 'frame_3'"
   ]
  },
  {
   "cell_type": "code",
   "execution_count": null,
   "id": "9ef08cfe-9a19-41b3-a76c-01fc82a75f59",
   "metadata": {},
   "outputs": [],
   "source": [
    "# Function to write to MintPy config file\n",
    "def write_config_file(out_file, CONFIG_TXT, mode='a'): \n",
    "    \"\"\"Write configuration files for MintPy to process products\"\"\"\n",
    "    if not os.path.isfile(out_file) or mode == 'w':\n",
    "        with open(out_file, \"w\") as fid:\n",
    "            fid.write(CONFIG_TXT)\n",
    "        print('write configuration to file: {}'.format(out_file))\n",
    "    else:\n",
    "        with open(out_file, \"a\") as fid:\n",
    "            fid.write(\"\\n\" + CONFIG_TXT)\n",
    "        print('add the following to file: \\n{}'.format(CONFIG_TXT))"
   ]
  },
  {
   "cell_type": "code",
   "execution_count": null,
   "id": "5d740efd-2167-45f2-84c3-88ce9a2a63af",
   "metadata": {},
   "outputs": [],
   "source": [
    "def correct_era5(orbit, frame_list, year_list, weather_dir = '/tmp'):\n",
    "    home_path = '/mnt/d/indennt'\n",
    "    for frame in frame_list:\n",
    "        print(f'working on {frame}')\n",
    "        for year in year_list:\n",
    "            print(f'working on {year}')\n",
    "            data_path = f'{home_path}/hyp3/{orbit}/{frame}/{year}'\n",
    "            hyp3_list = os.listdir(data_path)\n",
    "            for i, granule in enumerate(hyp3_list):\n",
    "                print(f'working on {i}/{len(hyp3_list)}')\n",
    "                granule_path = f'{data_path}/{granule}'\n",
    "                os.chdir(granule_path)\n",
    "\n",
    "                CONFIG_TXT=f\"\"\"\n",
    "                mintpy.load.processor        = hyp3\n",
    "                ##---------interferogram datasets:\n",
    "                mintpy.load.unwFile          = *_unw_phase.tif\n",
    "                mintpy.load.corFile          = *_corr.tif\n",
    "                ##---------geometry datasets:\n",
    "                mintpy.load.demFile          = *_dem.tif\n",
    "                mintpy.load.incAngleFile     = *_lv_theta.tif\n",
    "                mintpy.load.azAngleFile      = *_lv_phi.tif\n",
    "                mintpy.load.waterMaskFile    = *_water_mask.tif\n",
    "                \"\"\"\n",
    "                mintpy_config = f'{granule_path}/{frame}_{year}_Sen{orbit}.txt'\n",
    "                write_config_file(mintpy_config, CONFIG_TXT)\n",
    "\n",
    "                !smallbaselineApp.py {mintpy_config} --dostep load_data\n",
    "                geom_path = 'inputs/geometryGeo.h5'\n",
    "            \n",
    "                tif_filename = glob.glob('*_unw_phase.tif')[0] #clipped\n",
    "                unw_filename = f'{tif_filename[:-4]}.unw'\n",
    "            \n",
    "                data, atr = readfile.read(tif_filename, datasetName='phase')\n",
    "                #atr['OG_FILE_PATH'] = atr['FILE_PATH']\n",
    "                atr['FILE_TYPE'] = '.unw'\n",
    "                writefile.write({'phase':data},unw_filename,metadata=atr)\n",
    "                #!gdal_translate $tif_filename $unw_filename -of ISCE\n",
    "                #print(unw_filename)\n",
    "                #!pwd\n",
    "                #!gdalinfo $unw_filename\n",
    "                !tropo_pyaps3.py -f $unw_filename -g $geom_path --weather-dir $weather_dir\n",
    "                unw_filename_corr = f'{unw_filename[:-4]}_ERA5.unw'\n",
    "                unw_filename_out = f'{unw_filename[:-4]}_ERA5.tif'\n",
    "                !gdal_translate -of GTiff -b 2 -a_srs EPSG:32613 $unw_filename_corr $unw_filename_out\n",
    "                !rm *.rsc\n",
    "                !rm *.unw\n",
    "                !rm -r inputs\n",
    "                !rm -r pic\n",
    "                !rm smallbaselineApp.cfg\n",
    "                !rm $mintpy_config"
   ]
  },
  {
   "cell_type": "code",
   "execution_count": null,
   "id": "b46afe7f-29b4-499d-b75a-41f0d730c58c",
   "metadata": {
    "scrolled": true
   },
   "outputs": [],
   "source": [
    "correct_era5(orbit, [frame], [year])"
   ]
  },
  {
   "cell_type": "markdown",
   "id": "1d915750-f563-4a6d-bc0d-d87c52eb48da",
   "metadata": {},
   "source": [
    "## set reference point\n",
    "switch to env with xarray"
   ]
  },
  {
   "cell_type": "code",
   "execution_count": 1,
   "id": "b9555672-7546-460d-b8fe-e1ce366e2666",
   "metadata": {},
   "outputs": [],
   "source": [
    "import os\n",
    "import numpy as np\n",
    "import pandas as pd\n",
    "import rasterio as rio\n",
    "import matplotlib.pyplot as plt\n",
    "import xarray as xr\n",
    "import datetime as dt\n",
    "import rioxarray\n",
    "import seaborn as sns\n",
    "import geopandas as gpd\n",
    "from glob import glob"
   ]
  },
  {
   "cell_type": "code",
   "execution_count": 2,
   "id": "7cb18f03-55be-4c63-a89f-53d84e94e5e1",
   "metadata": {},
   "outputs": [],
   "source": [
    "# load in single igram and other data \n",
    "def hyp3_to_xarray_single(path):\n",
    "    '''\n",
    "    Reads hyp3 outputs into xarray dataset from single hyp3 folder \n",
    "    '''\n",
    "    # globs for data to load\n",
    "    unw_phase_path = glob(f'{path}/*unw_phase.tif')[0]\n",
    "    era5_path = glob(f'{path}/*ERA5.tif')[0]\n",
    "    meta_path = glob(f'{path}/S1*.txt')[0]\n",
    "\n",
    "    # list granules for coordinate\n",
    "    granule = os.path.split(unw_phase_path)[-1][0:-14]\n",
    "\n",
    "    d = {}\n",
    "    with open(meta_path) as f:\n",
    "        for line in f:\n",
    "            (key, val) = line.split(':')\n",
    "            d[key] = str.strip(val)\n",
    "\n",
    "    # read unw_phase into data array and assign coordinates\n",
    "    da = xr.open_dataset(unw_phase_path)\n",
    "    da = da.assign_coords({'granule':('granule', [granule])})\n",
    "    for item in d.keys():\n",
    "            da = da.assign_coords({item:('granule', [d[item]])})\n",
    "    \n",
    "    # concatenate into dataset and rename variable\n",
    "    ds = da.rename({'band_data': 'unw_phase'})\n",
    "\n",
    "    #open coherence and dem into datasets\n",
    "    era5_ds = xr.open_dataset(era5_path)\n",
    "\n",
    "    # add coherence and dem to unw_phase dataset\n",
    "    ds['era5_phase'] = (('band', 'y', 'x'), era5_ds.band_data.values)\n",
    "\n",
    "    # remove band coordinate\n",
    "    ds = ds.squeeze()\n",
    "\n",
    "    return ds"
   ]
  },
  {
   "cell_type": "code",
   "execution_count": 3,
   "id": "a970a125-8143-4a5b-a3a0-567109ce79e6",
   "metadata": {},
   "outputs": [],
   "source": [
    "def set_era5_ref(orbit, frame_list, year_list):\n",
    "    home_path = '/mnt/d/indennt'\n",
    "    for frame in frame_list:\n",
    "        print(f'working on {frame}')\n",
    "        for year in year_list:\n",
    "            print(f'working on {year}')\n",
    "            data_path = f'{home_path}/hyp3/{orbit}/{frame}/{year}'\n",
    "            hyp3_list = os.listdir(data_path)\n",
    "            for i, granule in enumerate(hyp3_list):\n",
    "                print(f'working on {i}/{len(hyp3_list)}')\n",
    "                granule_path = f'{data_path}/{granule}'\n",
    "                os.chdir(granule_path)\n",
    "                !rm *.md*\n",
    "\n",
    "                ds = hyp3_to_xarray_single(granule_path)\n",
    "                ref_value = ds.era5_phase.sel(y=ds['Y coordinate of the reference point in the map projection'],\n",
    "                              x=ds['X coordinate of the reference point in the map projection'],\n",
    "                              method='nearest').item()\n",
    "                ds['era5_phase'] = ds['era5_phase'] - ref_value\n",
    "                ds.era5_phase.rio.to_raster(f'{granule_path}/{granule}_unw_phase_ERA5.tif')"
   ]
  },
  {
   "cell_type": "code",
   "execution_count": 4,
   "id": "0dcdc953-31cf-4b8b-aac8-ac01ee43dd1b",
   "metadata": {},
   "outputs": [],
   "source": [
    "orbit = 'DT56'\n",
    "year_list = ['2018', '2019', '2020', '2021', '2022']\n",
    "frame = 'frame_3'"
   ]
  },
  {
   "cell_type": "code",
   "execution_count": 5,
   "id": "c7116229-b1cb-416b-84da-8bbe789752ff",
   "metadata": {
    "scrolled": true
   },
   "outputs": [
    {
     "name": "stdout",
     "output_type": "stream",
     "text": [
      "working on frame_3\n",
      "working on 2017\n",
      "working on 0/40\n",
      "working on 1/40\n",
      "working on 2/40\n",
      "working on 3/40\n",
      "working on 4/40\n",
      "working on 5/40\n",
      "working on 6/40\n",
      "working on 7/40\n",
      "working on 8/40\n",
      "working on 9/40\n",
      "working on 10/40\n",
      "working on 11/40\n",
      "working on 12/40\n",
      "working on 13/40\n",
      "working on 14/40\n",
      "working on 15/40\n",
      "working on 16/40\n",
      "working on 17/40\n",
      "working on 18/40\n",
      "working on 19/40\n",
      "working on 20/40\n",
      "working on 21/40\n",
      "working on 22/40\n",
      "working on 23/40\n",
      "working on 24/40\n",
      "working on 25/40\n",
      "working on 26/40\n",
      "working on 27/40\n",
      "working on 28/40\n",
      "working on 29/40\n",
      "working on 30/40\n",
      "working on 31/40\n",
      "working on 32/40\n",
      "working on 33/40\n",
      "working on 34/40\n",
      "working on 35/40\n",
      "working on 36/40\n",
      "working on 37/40\n",
      "working on 38/40\n",
      "working on 39/40\n"
     ]
    }
   ],
   "source": [
    "set_era5_ref(orbit, [frame], [year])"
   ]
  }
 ],
 "metadata": {
  "kernelspec": {
   "display_name": "Python [conda env:mintpy] *",
   "language": "python",
   "name": "conda-env-mintpy-py"
  },
  "language_info": {
   "codemirror_mode": {
    "name": "ipython",
    "version": 3
   },
   "file_extension": ".py",
   "mimetype": "text/x-python",
   "name": "python",
   "nbconvert_exporter": "python",
   "pygments_lexer": "ipython3",
   "version": "3.11.3"
  }
 },
 "nbformat": 4,
 "nbformat_minor": 5
}
