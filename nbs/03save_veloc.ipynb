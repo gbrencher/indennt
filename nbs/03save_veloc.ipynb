{
 "cells": [
  {
   "cell_type": "markdown",
   "id": "38c9d378-7351-4d0d-832e-cbfebb3f7416",
   "metadata": {},
   "source": [
    "# Save signal maps"
   ]
  },
  {
   "cell_type": "code",
   "execution_count": 8,
   "id": "b1a8dec2-59ea-4f04-b716-bd744c231a8d",
   "metadata": {},
   "outputs": [],
   "source": [
    "import os\n",
    "import numpy as np\n",
    "import pandas as pd\n",
    "import rasterio as rio\n",
    "import matplotlib.pyplot as plt\n",
    "import xarray as xr\n",
    "import datetime as dt\n",
    "import rioxarray\n",
    "import seaborn as sns\n",
    "import geopandas as gpd"
   ]
  },
  {
   "cell_type": "code",
   "execution_count": 9,
   "id": "4bac66e7-6a4c-4876-bf5b-a101429e1ce0",
   "metadata": {},
   "outputs": [],
   "source": [
    "# function to rewrite coordinates from metadata\n",
    "def coord_range(ds):\n",
    "    latrange = np.linspace(float(ds.attrs['Y_FIRST']),\n",
    "                           ((float(ds.attrs['Y_STEP'])*float(ds.attrs['LENGTH']))+float(ds.attrs['Y_FIRST'])),\n",
    "                           int(ds.attrs['LENGTH']))\n",
    "    lonrange = np.linspace(float(ds.attrs['X_FIRST']),\n",
    "                           ((float(ds.attrs['X_STEP'])*float(ds.attrs['WIDTH']))+float(ds.attrs['X_FIRST'])),\n",
    "                           int(ds.attrs['WIDTH']))\n",
    "    return latrange, lonrange\n",
    "\n",
    "def mintpy2d_to_xarray(fn, crs):\n",
    "    ds = xr.open_dataset(fn)\n",
    "    ds = ds.rename_dims({'phony_dim_0':'y',\n",
    "                         'phony_dim_1':'x'\n",
    "                        })\n",
    "    latrange, lonrange = coord_range(ds)\n",
    "    ds = ds.assign_coords({'y': ('y', latrange),\n",
    "                           'x': ('x', lonrange)})\n",
    "    ds = ds.rio.write_crs(crs)\n",
    "    \n",
    "    return ds"
   ]
  },
  {
   "cell_type": "code",
   "execution_count": 10,
   "id": "ef0b84f9-960e-4132-8573-fe99254e08be",
   "metadata": {},
   "outputs": [],
   "source": [
    "orbit_list = ['AT151', 'DT56']\n",
    "year_list = ['2017', '2018', '2019', '2020', '2021', '2022']\n",
    "frame_list = ['frame_1', 'frame_2', 'frame_3']"
   ]
  },
  {
   "cell_type": "code",
   "execution_count": 15,
   "id": "03a0262b-534c-48b3-9587-093cdbaf21f3",
   "metadata": {},
   "outputs": [],
   "source": [
    "# function to clip files and run mintpy for multiple years \n",
    "def save_veloc_multiyear(orbit_list, year_list, frame_list, crs=32613):\n",
    "    # hardcoded paths for now \n",
    "    home_path = '/mnt/d/indennt/'\n",
    "    for orbit in orbit_list:\n",
    "        for frame in frame_list:\n",
    "            for year in year_list:\n",
    "                print(f'working on {orbit}, {frame}, {year}')\n",
    "                mintpy_path = f'{home_path}/signal_mintpy/{orbit}/{frame}/mintpy_{year}'\n",
    "    \n",
    "                vel_ds = mintpy2d_to_xarray(f'{mintpy_path}/velocity.h5', crs)\n",
    "                vel_ds = vel_ds.velocity.rio.write_nodata(0, inplace=True)\n",
    "                #vel_ds.rio.to_raster(f'{home_path}/signal_maps/{orbit}/{frame}_{year}_signal.tif')\n",
    "    \n",
    "                corr_ds = mintpy2d_to_xarray(f'{mintpy_path}/avgSpatialCoh.h5', crs)\n",
    "                corr_ds = corr_ds.rio.reproject_match(vel_ds)\n",
    "                corr_ds = corr_ds.coherence.rio.write_nodata(0, inplace=True)\n",
    "                corr_ds.rio.to_raster(f'{home_path}/signal_maps/{orbit}/{frame}_{year}_corr.tif')"
   ]
  },
  {
   "cell_type": "code",
   "execution_count": 16,
   "id": "51a26485-5f2c-4b32-8c3b-b6af3ea88554",
   "metadata": {},
   "outputs": [
    {
     "name": "stdout",
     "output_type": "stream",
     "text": [
      "working on AT151, frame_1, 2017\n",
      "working on AT151, frame_1, 2018\n",
      "working on AT151, frame_1, 2019\n",
      "working on AT151, frame_1, 2020\n",
      "working on AT151, frame_1, 2021\n",
      "working on AT151, frame_1, 2022\n",
      "working on AT151, frame_2, 2017\n",
      "working on AT151, frame_2, 2018\n",
      "working on AT151, frame_2, 2019\n",
      "working on AT151, frame_2, 2020\n",
      "working on AT151, frame_2, 2021\n",
      "working on AT151, frame_2, 2022\n",
      "working on AT151, frame_3, 2017\n",
      "working on AT151, frame_3, 2018\n",
      "working on AT151, frame_3, 2019\n",
      "working on AT151, frame_3, 2020\n",
      "working on AT151, frame_3, 2021\n",
      "working on AT151, frame_3, 2022\n",
      "working on DT56, frame_1, 2017\n",
      "working on DT56, frame_1, 2018\n",
      "working on DT56, frame_1, 2019\n",
      "working on DT56, frame_1, 2020\n",
      "working on DT56, frame_1, 2021\n",
      "working on DT56, frame_1, 2022\n",
      "working on DT56, frame_2, 2017\n",
      "working on DT56, frame_2, 2018\n",
      "working on DT56, frame_2, 2019\n",
      "working on DT56, frame_2, 2020\n",
      "working on DT56, frame_2, 2021\n",
      "working on DT56, frame_2, 2022\n",
      "working on DT56, frame_3, 2017\n",
      "working on DT56, frame_3, 2018\n",
      "working on DT56, frame_3, 2019\n",
      "working on DT56, frame_3, 2020\n",
      "working on DT56, frame_3, 2021\n",
      "working on DT56, frame_3, 2022\n"
     ]
    }
   ],
   "source": [
    "save_veloc_multiyear(orbit_list, year_list, frame_list)"
   ]
  }
 ],
 "metadata": {
  "kernelspec": {
   "display_name": "Python [conda env:gda]",
   "language": "python",
   "name": "conda-env-gda-py"
  },
  "language_info": {
   "codemirror_mode": {
    "name": "ipython",
    "version": 3
   },
   "file_extension": ".py",
   "mimetype": "text/x-python",
   "name": "python",
   "nbconvert_exporter": "python",
   "pygments_lexer": "ipython3",
   "version": "3.8.16"
  }
 },
 "nbformat": 4,
 "nbformat_minor": 5
}
