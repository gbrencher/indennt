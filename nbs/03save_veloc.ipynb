{
 "cells": [
  {
   "cell_type": "code",
   "execution_count": 1,
   "id": "b1a8dec2-59ea-4f04-b716-bd744c231a8d",
   "metadata": {},
   "outputs": [],
   "source": [
    "import os\n",
    "import numpy as np\n",
    "import pandas as pd\n",
    "import rasterio as rio\n",
    "import matplotlib.pyplot as plt\n",
    "import xarray as xr\n",
    "import datetime as dt\n",
    "import rioxarray\n",
    "import seaborn as sns\n",
    "import geopandas as gpd"
   ]
  },
  {
   "cell_type": "code",
   "execution_count": 2,
   "id": "4bac66e7-6a4c-4876-bf5b-a101429e1ce0",
   "metadata": {},
   "outputs": [],
   "source": [
    "# function to rewrite coordinates from metadata\n",
    "def coord_range(ds):\n",
    "    latrange = np.linspace(float(ds.attrs['Y_FIRST']),\n",
    "                           ((float(ds.attrs['Y_STEP'])*float(ds.attrs['LENGTH']))+float(ds.attrs['Y_FIRST'])),\n",
    "                           int(ds.attrs['LENGTH']))\n",
    "    lonrange = np.linspace(float(ds.attrs['X_FIRST']),\n",
    "                           ((float(ds.attrs['X_STEP'])*float(ds.attrs['WIDTH']))+float(ds.attrs['X_FIRST'])),\n",
    "                           int(ds.attrs['WIDTH']))\n",
    "    return latrange, lonrange\n",
    "\n",
    "def mintpy2d_to_xarray(fn, crs):\n",
    "    ds = xr.open_dataset(fn)\n",
    "    ds = ds.rename_dims({'phony_dim_0':'y',\n",
    "                         'phony_dim_1':'x'\n",
    "                        })\n",
    "    latrange, lonrange = coord_range(ds)\n",
    "    ds = ds.assign_coords({'y': ('y', latrange),\n",
    "                           'x': ('x', lonrange)})\n",
    "    ds = ds.rio.write_crs(crs)\n",
    "    \n",
    "    return ds"
   ]
  },
  {
   "cell_type": "code",
   "execution_count": 3,
   "id": "ef0b84f9-960e-4132-8573-fe99254e08be",
   "metadata": {},
   "outputs": [],
   "source": [
    "orbit = 'DT56'\n",
    "year = '2017'\n",
    "frame = 'frame_3'"
   ]
  },
  {
   "cell_type": "code",
   "execution_count": 4,
   "id": "03a0262b-534c-48b3-9587-093cdbaf21f3",
   "metadata": {},
   "outputs": [],
   "source": [
    "# function to clip files and run mintpy for multiple years \n",
    "def save_veloc_multiyear(orbit, year_list, frame_list, crs=32613):\n",
    "    # hardcoded paths for now \n",
    "    home_path = '/mnt/c/Users/qbren/Desktop/taco/projects/indennt/proc/data'\n",
    "    for frame in frame_list:\n",
    "        print(f'working on {frame}')\n",
    "        for year in year_list:\n",
    "            print(f'working on {year}')\n",
    "            mintpy_path = f'{home_path}/signal_mintpy/{orbit}/{frame}/mintpy_{year}'\n",
    "\n",
    "            vel_ds = mintpy2d_to_xarray(f'{mintpy_path}/velocity.h5', crs)\n",
    "            vel_ds.velocity.rio.to_raster(f'{home_path}/signal_maps/{orbit}_{frame}_{year}_signal.tif')"
   ]
  },
  {
   "cell_type": "code",
   "execution_count": 5,
   "id": "51a26485-5f2c-4b32-8c3b-b6af3ea88554",
   "metadata": {},
   "outputs": [
    {
     "name": "stdout",
     "output_type": "stream",
     "text": [
      "working on frame_3\n",
      "working on 2017\n"
     ]
    }
   ],
   "source": [
    "save_veloc_multiyear(orbit, [year], [frame])"
   ]
  }
 ],
 "metadata": {
  "kernelspec": {
   "display_name": "Python [conda env:gda]",
   "language": "python",
   "name": "conda-env-gda-py"
  },
  "language_info": {
   "codemirror_mode": {
    "name": "ipython",
    "version": 3
   },
   "file_extension": ".py",
   "mimetype": "text/x-python",
   "name": "python",
   "nbconvert_exporter": "python",
   "pygments_lexer": "ipython3",
   "version": "3.8.16"
  }
 },
 "nbformat": 4,
 "nbformat_minor": 5
}
