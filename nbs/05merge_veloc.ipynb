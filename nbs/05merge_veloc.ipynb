{
 "cells": [
  {
   "cell_type": "markdown",
   "id": "c545eaaf-3ffd-4e47-baaf-da79230157ee",
   "metadata": {},
   "source": [
    "# merge velocity maps from same years"
   ]
  },
  {
   "cell_type": "code",
   "execution_count": null,
   "id": "e23b9de7-bc4d-4899-9ecf-7b76cb39065f",
   "metadata": {},
   "outputs": [],
   "source": []
  }
 ],
 "metadata": {
  "kernelspec": {
   "display_name": "Python 3 (ipykernel)",
   "language": "python",
   "name": "python3"
  },
  "language_info": {
   "codemirror_mode": {
    "name": "ipython",
    "version": 3
   },
   "file_extension": ".py",
   "mimetype": "text/x-python",
   "name": "python",
   "nbconvert_exporter": "python",
   "pygments_lexer": "ipython3",
   "version": "3.11.3"
  }
 },
 "nbformat": 4,
 "nbformat_minor": 5
}
