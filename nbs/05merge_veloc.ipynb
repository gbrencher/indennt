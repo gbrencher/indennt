{
 "cells": [
  {
   "cell_type": "markdown",
   "id": "c545eaaf-3ffd-4e47-baaf-da79230157ee",
   "metadata": {},
   "source": [
    "# merge velocity maps from same years"
   ]
  },
  {
   "cell_type": "markdown",
   "id": "a39f60b7-ea2e-4162-b5cb-74f248ab9048",
   "metadata": {},
   "source": [
    "Should really do median across all bands and all years for cleanest training data. "
   ]
  },
  {
   "cell_type": "code",
   "execution_count": null,
   "id": "774a25e0-6600-4bda-9a67-570f2038c3ca",
   "metadata": {},
   "outputs": [],
   "source": [
    "import xarray as xr\n",
    "import rasterio as rio\n",
    "import rioxarray\n",
    "from glob import glob"
   ]
  },
  {
   "cell_type": "code",
   "execution_count": null,
   "id": "42a6ace7-39b1-4a15-8c28-79cdd4cbf856",
   "metadata": {},
   "outputs": [],
   "source": [
    "# we'll see if this works. Might need to resample to common grid prior to concatenation. \n",
    "# might run out of ram, need dask. \n",
    "# might need to do mean\n",
    "def open_signal_maps(path, frame):\n",
    "    signal_glob = glob(f'{path}/*signal.tif')\n",
    "\n",
    "    da_list = []\n",
    "    for fn in signal_glob:\n",
    "        da_list.append(xr.open_dataset(fn))\n",
    "    signal_ds = xr.concat(da_list, dim='band')\n",
    "    signal_ds = signal_ds.median(dim='band')\n",
    "\n",
    "    return signal_ds"
   ]
  }
 ],
 "metadata": {
  "kernelspec": {
   "display_name": "Python 3 (ipykernel)",
   "language": "python",
   "name": "python3"
  },
  "language_info": {
   "codemirror_mode": {
    "name": "ipython",
    "version": 3
   },
   "file_extension": ".py",
   "mimetype": "text/x-python",
   "name": "python",
   "nbconvert_exporter": "python",
   "pygments_lexer": "ipython3",
   "version": "3.11.3"
  }
 },
 "nbformat": 4,
 "nbformat_minor": 5
}
