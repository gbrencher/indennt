{
 "cells": [
  {
   "cell_type": "code",
   "execution_count": null,
   "id": "90ace461-37cd-4125-9ce4-831bebedf876",
   "metadata": {},
   "outputs": [],
   "source": [
    "import random"
   ]
  },
  {
   "cell_type": "code",
   "execution_count": null,
   "id": "17932727-b985-4781-9453-91214eb62bda",
   "metadata": {},
   "outputs": [],
   "source": [
    "orbit = 'DT56'\n",
    "train_grid_path = "
   ]
  },
  {
   "cell_type": "code",
   "execution_count": null,
   "id": "7de90f5c-b49a-472d-9a13-55cac74297c8",
   "metadata": {},
   "outputs": [],
   "source": [
    "# load in single igram and other data \n",
    "def hyp3_to_xarray_single(path):\n",
    "    '''\n",
    "    Reads unwrapped phase, coherence, and DEM into xarray dataset from single hyp3 folder \n",
    "    '''\n",
    "    # globs for data to load\n",
    "    unw_phase_path = glob(f'{path}/*unw_phase.tif')[0]\n",
    "    dem_path = glob(f'{hyp3_path}/*dem.tif')[0]\n",
    "    era5_path = glob(f'{hyp3_path}/*unw_phase_era5.tif')[0]\n",
    "    murp_path = glob(f'{hyp3_path}/*unw_phase_MuRP.tif')[0]\n",
    "\n",
    "    # list granules for coordinate\n",
    "    granule = os.path.split(unw_phase_path)[-1][0:-14]\n",
    "\n",
    "    # read unw_phase into data array and assign coordinates\n",
    "    da = xr.open_dataset(unw_phase_path)\n",
    "    da = da.assign_coords({'granule':('granule', [granule])})\n",
    "    \n",
    "    # concatenate into dataset and rename variable\n",
    "    ds = da.rename({'band_data': 'unw_phase'})\n",
    "\n",
    "    #open other bands into datasets\n",
    "    dem_ds = xr.open_dataset(dem_path)\n",
    "    era5_ds = xr.open_dataset(era5_path)\n",
    "    murp_ds = xr.open_dataset(murp_path)\n",
    "\n",
    "    # add coherence and dem to unw_phase dataset\n",
    "    ds['elevation'] = (('band', 'y', 'x'), dem_ds.band_data.values)\n",
    "    ds['unw_phase_era5'] = (('band', 'y', 'x'), era5_ds.band_data.values)\n",
    "    \n",
    "\n",
    "    # remove band coordinate\n",
    "    ds = ds.squeeze()\n",
    "\n",
    "    return ds"
   ]
  },
  {
   "cell_type": "code",
   "execution_count": null,
   "id": "f18fb404-1013-4e5b-b348-13126e1ae0dd",
   "metadata": {},
   "outputs": [],
   "source": [
    "def open_signal_maps():"
   ]
  },
  {
   "cell_type": "code",
   "execution_count": null,
   "id": "04b8837c-e2bf-4a99-93c3-9aef701d11aa",
   "metadata": {},
   "outputs": [],
   "source": [
    "def merge_signal_maps():\n",
    "    '''\n",
    "    merge signal maps from the same year \n",
    "    '''"
   ]
  },
  {
   "cell_type": "code",
   "execution_count": null,
   "id": "f6c46116-b2b8-4692-a077-037c135da272",
   "metadata": {},
   "outputs": [],
   "source": [
    "def correct_era5_ref(ds):\n",
    "    "
   ]
  },
  {
   "cell_type": "code",
   "execution_count": null,
   "id": "c8e83534-840f-4618-8804-ea2ea4e0de93",
   "metadata": {},
   "outputs": [],
   "source": [
    "def sample_tile(tile, tile_ds, subset_size):\n",
    "    "
   ]
  },
  {
   "cell_type": "markdown",
   "id": "043f007e-7db1-4363-8aaa-269f47147da0",
   "metadata": {},
   "source": [
    "pseudocode:\n",
    "\n",
    "loop through igrams\n",
    "open single igram as ds\n",
    "open all veloc as ds\n",
    "reproject match and add all veloc maps to ds\n",
    "create veloc mask (area with at least one valid veloc)\n",
    "crop ds to tile\n",
    "check if valid subset in tile masked by veloc\n",
    "sample randomly within tile\n",
    "if sample meets criteria, grab random veloc map with valid data\n",
    "save subset stack"
   ]
  },
  {
   "cell_type": "code",
   "execution_count": null,
   "id": "82687ba4-a5c6-49b4-b82e-57e54175ee79",
   "metadata": {},
   "outputs": [],
   "source": [
    "def subset_noise(noise_path, signal_path, tiles_path, subsets_desired, subset_type, max_time):\n",
    "    subset_counter = 0\n",
    "    signal_list = open_signal_maps(signal_path)\n",
    "    tiles = gpd.read_file(grid_path).geometry\n",
    "    granule_list = os.list_dir(noise_path)\n",
    "\n",
    "    # continue to run until desired subset number is reached\n",
    "    while subset_counter < subset_desired:\n",
    "        # loop through noise maps\n",
    "        for granule in granule_list:\n",
    "            granule_path = f'{hyp3_path}/{granule}'\n",
    "            noise_ds = hyp3_to_xarray_single(granule_path)\n",
    "    \n",
    "            ds = correct_era5_ref(ds)\n",
    "\n",
    "            # loop through tiles\n",
    "            for tile in tiles:\n",
    "                # clip to tile extent\n",
    "                tile_ds = ds.rio.clip(aoi_gdf.geometry, crs=aoi_gdf.crs, drop=True)\n",
    "\n",
    "                #check if valid subset exists in tile\n",
    "                if np.isnan(tile_ds.unw_phase.values).sum() > subset_size**2:\n",
    "                    \n",
    "                    timeout = time.time() + 60*3 # set time to spend on each tile\n",
    "\n",
    "                    # try to find appropriate subsets for a while\n",
    "                    while time.time() < timeout:\n",
    "                        # grab random subset within sample \n",
    "                        subset_ds = sample_tile(tile, tile_ds, subset_size)\n",
    "                        # interpolate small gaps\n",
    "                        subset_ds['unw_phase'] = subset_ds.unw_phase.interpolate_na(dim=0, max_size=5)\n",
    "                        \n",
    "                        # test if gaps remain in subset\n",
    "                        if not np.isnan(subset_ds.unw_phase.values).any():\n",
    "                            # test if subset elevation is above treeline\n",
    "                            if np.median(subset_ds.elevation.values) > 3300:\n",
    "                                # grab random velocity map with full coverage\n",
    "\n",
    "                                # save subset"
   ]
  }
 ],
 "metadata": {
  "kernelspec": {
   "display_name": "Python 3 (ipykernel)",
   "language": "python",
   "name": "python3"
  },
  "language_info": {
   "codemirror_mode": {
    "name": "ipython",
    "version": 3
   },
   "file_extension": ".py",
   "mimetype": "text/x-python",
   "name": "python",
   "nbconvert_exporter": "python",
   "pygments_lexer": "ipython3",
   "version": "3.11.3"
  }
 },
 "nbformat": 4,
 "nbformat_minor": 5
}
