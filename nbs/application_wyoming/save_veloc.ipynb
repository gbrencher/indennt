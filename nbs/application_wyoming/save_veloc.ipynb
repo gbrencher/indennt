{
 "cells": [
  {
   "cell_type": "markdown",
   "id": "38c9d378-7351-4d0d-832e-cbfebb3f7416",
   "metadata": {},
   "source": [
    "# Save signal maps"
   ]
  },
  {
   "cell_type": "code",
   "execution_count": 1,
   "id": "b1a8dec2-59ea-4f04-b716-bd744c231a8d",
   "metadata": {},
   "outputs": [],
   "source": [
    "import os\n",
    "import numpy as np\n",
    "import pandas as pd\n",
    "import rasterio as rio\n",
    "import matplotlib.pyplot as plt\n",
    "import xarray as xr\n",
    "import datetime as dt\n",
    "import rioxarray\n",
    "import seaborn as sns\n",
    "import geopandas as gpd\n",
    "from glob import glob\n",
    "import math"
   ]
  },
  {
   "cell_type": "code",
   "execution_count": 2,
   "id": "4bac66e7-6a4c-4876-bf5b-a101429e1ce0",
   "metadata": {},
   "outputs": [],
   "source": [
    "# function to rewrite coordinates from metadata\n",
    "def coord_range(ds):\n",
    "    latrange = np.linspace(float(ds.attrs['Y_FIRST']),\n",
    "                           ((float(ds.attrs['Y_STEP'])*float(ds.attrs['LENGTH']))+float(ds.attrs['Y_FIRST'])),\n",
    "                           int(ds.attrs['LENGTH']))\n",
    "    lonrange = np.linspace(float(ds.attrs['X_FIRST']),\n",
    "                           ((float(ds.attrs['X_STEP'])*float(ds.attrs['WIDTH']))+float(ds.attrs['X_FIRST'])),\n",
    "                           int(ds.attrs['WIDTH']))\n",
    "    return latrange, lonrange\n",
    "\n",
    "def mintpy2d_to_xarray(fn, crs):\n",
    "    ds = xr.open_dataset(fn)\n",
    "    ds = ds.rename_dims({'phony_dim_0':'y',\n",
    "                         'phony_dim_1':'x'\n",
    "                        })\n",
    "    latrange, lonrange = coord_range(ds)\n",
    "    ds = ds.assign_coords({'y': ('y', latrange),\n",
    "                           'x': ('x', lonrange)})\n",
    "    ds = ds.rio.write_crs(crs)\n",
    "    \n",
    "    return ds"
   ]
  },
  {
   "cell_type": "code",
   "execution_count": 3,
   "id": "e9434f43-e6f5-4ac7-a9a4-082d7e95ce2d",
   "metadata": {
    "tags": []
   },
   "outputs": [],
   "source": [
    "# add additional rasters for analysis\n",
    "def rasters_to_ds(ds, granule_path):\n",
    "    os.chdir(granule_path)\n",
    "    \n",
    "    slope_ds = xr.open_dataset(glob('*slope.tif')[0])\n",
    "    aspect_ds = xr.open_dataset(glob('*aspect.tif')[0])\n",
    "    heading_ds = xr.open_dataset(glob('*lv_phi.tif')[0])\n",
    "    incidence_ds = xr.open_dataset(glob('*inc_map_ell.tif')[0])\n",
    "    \n",
    "    slope_ds = slope_ds.rio.reproject_match(ds.velocity)\n",
    "    aspect_ds = aspect_ds.rio.reproject_match(ds.velocity)\n",
    "    heading_ds = heading_ds.rio.reproject_match(ds.velocity)\n",
    "    incidence_ds = incidence_ds.rio.reproject_match(ds.velocity)\n",
    "\n",
    "    # add coherence and dem to unw_phase dataset\n",
    "    ds['slope'] = (('band', 'y', 'x'), slope_ds.band_data.values)\n",
    "    ds['aspect'] = (('band', 'y', 'x'), aspect_ds.band_data.values)\n",
    "    ds['heading'] = (('band', 'y', 'x'), heading_ds.band_data.values)\n",
    "    ds['incidence'] = (('band', 'y', 'x'), incidence_ds.band_data.values)\n",
    "    \n",
    "    # remove band coordinate\n",
    "    ds = ds.squeeze()\n",
    "    \n",
    "    return ds\n",
    "                  \n",
    "def hyp3_to_downslope(ds):\n",
    "    ds['slope'] = np.radians(ds.slope)\n",
    "    ds['aspect'] = np.radians(ds.aspect)\n",
    "    a = ds.heading - ds.aspect\n",
    "\n",
    "    ds['downslope_velocity'] = ds.velocity/(np.sin(a)*np.sin(ds.incidence)*np.cos(ds.slope)+np.cos(ds.incidence)*np.sin(ds.slope))\n",
    "    \n",
    "    return ds"
   ]
  },
  {
   "cell_type": "code",
   "execution_count": 4,
   "id": "ef0b84f9-960e-4132-8573-fe99254e08be",
   "metadata": {},
   "outputs": [],
   "source": [
    "orbit_list = ['AT137']\n",
    "year_list = ['2017', '2018', '2019', '2020', '2021']"
   ]
  },
  {
   "cell_type": "code",
   "execution_count": 5,
   "id": "03a0262b-534c-48b3-9587-093cdbaf21f3",
   "metadata": {},
   "outputs": [],
   "source": [
    "# function to clip files and run mintpy for multiple years \n",
    "def save_veloc_multiyear(orbit_list, year_list, crs=32612):\n",
    "    # hardcoded paths for now \n",
    "    home_path = '/mnt/d/indennt'\n",
    "    for orbit in orbit_list:\n",
    "        for year in year_list:\n",
    "            print(f'working on {orbit}, {year}')\n",
    "            mintpy_path = f'{home_path}/mintpy_app/{orbit}/mintpy_{year}_uncorrected'\n",
    "\n",
    "            ds = mintpy2d_to_xarray(f'{mintpy_path}/velocity.h5', crs)\n",
    "        \n",
    "            # save velocity\n",
    "            vel_ds = ds.velocity.rio.write_nodata(0, inplace=True)\n",
    "            vel_ds.rio.to_raster(f'{home_path}/signal_maps_app/{orbit}/{year}_signal_uncorrected.tif')\n",
    "            \n",
    "            # #downslope velocity\n",
    "            # raster_path = glob(f'{home_path}/hyp3_app/{orbit}/{year}/*')[0]\n",
    "            # ds = rasters_to_ds(ds, raster_path)\n",
    "            # ds = hyp3_to_downslope(ds)\n",
    "            # downslope_ds = ds.downslope_velocity.rio.write_nodata(0, inplace=True)\n",
    "            # downslope_ds.rio.to_raster(f'{home_path}/signal_maps_app/{orbit}/{year}_downslope_signal.tif')\n",
    "        \n",
    "            # # coherence \n",
    "            # corr_ds = mintpy2d_to_xarray(f'{mintpy_path}/avgSpatialCoh.h5', crs)\n",
    "            # corr_ds = corr_ds.rio.reproject_match(vel_ds)\n",
    "            # corr_ds = corr_ds.coherence.rio.write_nodata(0, inplace=True)\n",
    "            # corr_ds.rio.to_raster(f'{home_path}/signal_maps_app/{orbit}/{year}_corr.tif')"
   ]
  },
  {
   "cell_type": "code",
   "execution_count": 6,
   "id": "51a26485-5f2c-4b32-8c3b-b6af3ea88554",
   "metadata": {},
   "outputs": [
    {
     "name": "stdout",
     "output_type": "stream",
     "text": [
      "working on AT137, 2017\n",
      "working on AT137, 2018\n",
      "working on AT137, 2019\n",
      "working on AT137, 2020\n",
      "working on AT137, 2021\n"
     ]
    }
   ],
   "source": [
    "save_veloc_multiyear(orbit_list, year_list)"
   ]
  }
 ],
 "metadata": {
  "kernelspec": {
   "display_name": "Python [conda env:gda] *",
   "language": "python",
   "name": "conda-env-gda-py"
  },
  "language_info": {
   "codemirror_mode": {
    "name": "ipython",
    "version": 3
   },
   "file_extension": ".py",
   "mimetype": "text/x-python",
   "name": "python",
   "nbconvert_exporter": "python",
   "pygments_lexer": "ipython3",
   "version": "3.8.16"
  }
 },
 "nbformat": 4,
 "nbformat_minor": 5
}
