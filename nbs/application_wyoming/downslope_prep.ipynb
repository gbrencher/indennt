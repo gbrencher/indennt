{
 "cells": [
  {
   "cell_type": "markdown",
   "id": "440cc0aa-7044-488b-995a-2e96253888c2",
   "metadata": {},
   "source": [
    "## Create slope and aspect files for downslope projection"
   ]
  },
  {
   "cell_type": "code",
   "execution_count": null,
   "id": "61c62295-2d28-4b50-b959-d725ba26872a",
   "metadata": {},
   "outputs": [],
   "source": [
    "import os"
   ]
  },
  {
   "cell_type": "code",
   "execution_count": null,
   "id": "767b89f6-9617-4c3e-af4a-e14c0e399443",
   "metadata": {},
   "outputs": [],
   "source": [
    "def calc_slope_aspect(orbit_list, year_list):\n",
    "    for orbit in orbit_list:\n",
    "        print(f'working on {orbit}')\n",
    "            for year in year_list:\n",
    "                print(f'working on {orbit}, {year}')\n",
    "                hyp3_path = f'/mnt/d/indennt/hyp3_app/{orbit}/{year}'\n",
    "                hyp3_list = os.listdir(hyp3_path)\n",
    "                for i, granule in enumerate(hyp3_list):\n",
    "                    granule_path = f'{hyp3_path}/{granule}'\n",
    "                    if os.path.exists(f'{granule_path}/{granule}_slope.tif'):\n",
    "                        print(f'slope already in {granule}, skipping') \n",
    "                        continue\n",
    "                    print(f'working on {granule}, {i}/{len(hyp3_list)}')\n",
    "                    os.chdir(granule_path)\n",
    "                    \n",
    "                    dem_fn = f'{granule}_dem.tif'\n",
    "                    slope_fn = f'{granule}_slope.tif'\n",
    "                    aspect_fn = f'{granule}_aspect.tif'\n",
    "                    \n",
    "                    !gdaldem slope $dem_fn $slope_fn \n",
    "                    !gdaldem aspect $dem_fn $aspect_fn"
   ]
  },
  {
   "cell_type": "code",
   "execution_count": null,
   "id": "9df80077-f2ec-4a88-a363-5b126435fad5",
   "metadata": {},
   "outputs": [],
   "source": [
    "calc_slope_aspect(['AT137'], ['2017', '2018', '2019', '2020', '2021']"
   ]
  }
 ],
 "metadata": {
  "kernelspec": {
   "display_name": "Python 3 (ipykernel)",
   "language": "python",
   "name": "python3"
  },
  "language_info": {
   "codemirror_mode": {
    "name": "ipython",
    "version": 3
   },
   "file_extension": ".py",
   "mimetype": "text/x-python",
   "name": "python",
   "nbconvert_exporter": "python",
   "pygments_lexer": "ipython3",
   "version": "3.11.0"
  }
 },
 "nbformat": 4,
 "nbformat_minor": 5
}
