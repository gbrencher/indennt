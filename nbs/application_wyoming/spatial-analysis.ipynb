{
 "cells": [
  {
   "cell_type": "markdown",
   "id": "3aa10e02",
   "metadata": {
    "tags": []
   },
   "source": [
    "# Geospatial data analysis of time series\n",
    "Quinn Brencher"
   ]
  },
  {
   "cell_type": "code",
   "execution_count": null,
   "id": "284ac3af",
   "metadata": {
    "tags": []
   },
   "outputs": [],
   "source": [
    "# Import required packages\n",
    "import os\n",
    "import numpy as np\n",
    "import pandas as pd\n",
    "import rasterio as rio\n",
    "import matplotlib.pyplot as plt\n",
    "import xarray as xr\n",
    "import datetime as dt\n",
    "import rioxarray\n",
    "import seaborn as sns\n",
    "import geopandas as gpd\n",
    "from glob import glob\n",
    "import gc\n",
    "from matplotlib.dates import DateFormatter"
   ]
  },
  {
   "cell_type": "markdown",
   "id": "67c915fb",
   "metadata": {},
   "source": [
    "## Load in and rebuild time series data"
   ]
  },
  {
   "cell_type": "code",
   "execution_count": null,
   "id": "fac37542-8e79-43c2-8b5b-6a630042ee7b",
   "metadata": {
    "tags": []
   },
   "outputs": [],
   "source": [
    "# functions to load in mintpy data\n",
    "\n",
    "# function to rewrite coordinates from metadata\n",
    "def coord_range(ds):\n",
    "    latrange = np.linspace(float(ds.attrs['Y_FIRST']),\n",
    "                           ((float(ds.attrs['Y_STEP'])*float(ds.attrs['LENGTH']))+float(ds.attrs['Y_FIRST'])),\n",
    "                           int(ds.attrs['LENGTH']))\n",
    "    lonrange = np.linspace(float(ds.attrs['X_FIRST']),\n",
    "                           ((float(ds.attrs['X_STEP'])*float(ds.attrs['WIDTH']))+float(ds.attrs['X_FIRST'])),\n",
    "                           int(ds.attrs['WIDTH']))\n",
    "    return latrange, lonrange\n",
    "\n",
    "# function to read time series into xarray\n",
    "def mintpyTS_to_xarray(fn, crs):\n",
    "    ds = xr.open_dataset(fn, cache=False)\n",
    "    ds = ds.rename_dims({'phony_dim_1':'time',\n",
    "                         'phony_dim_2':'y',\n",
    "                         'phony_dim_3':'x'})\n",
    "    ds = ds.rename({'timeseries': 'displacement'})\n",
    "    latrange, lonrange = coord_range(ds)\n",
    "    ds = ds.assign_coords({'time': ('time', pd.to_datetime(ds.date)),\n",
    "                           'y': ('y', latrange),\n",
    "                           'x': ('x', lonrange)})\n",
    "    ds = ds.drop(['bperp', 'date'])\n",
    "    ds = ds.rio.write_crs(crs)\n",
    "    \n",
    "    return ds\n",
    "\n",
    "def mintpy2d_to_xarray(fn, crs):\n",
    "    ds = xr.open_dataset(fn)\n",
    "    ds = ds.rename_dims({'phony_dim_0':'y',\n",
    "                         'phony_dim_1':'x'\n",
    "                        })\n",
    "    latrange, lonrange = coord_range(ds)\n",
    "    ds = ds.assign_coords({'y': ('y', latrange),\n",
    "                           'x': ('x', lonrange)})\n",
    "    ds = ds.rio.write_crs(crs)\n",
    "    \n",
    "    return ds\n",
    "\n",
    "def mintpyInputs_to_xarray(fn, crs):\n",
    "    ds = xr.open_dataset(fn)\n",
    "    ds = ds.rename_dims({'phony_dim_0':'reference_time',\n",
    "                         'phony_dim_1':'secondary_time',\n",
    "                         'phony_dim_2':'y',\n",
    "                         'phony_dim_3':'x'})\n",
    "    latrange, lonrange = coord_range(ds)\n",
    "    ds = ds.assign_coords({'reference_time': ('reference_time', pd.to_datetime([span[0] for span in ds.date.values])),\n",
    "                           'secondary_time': ('secondary_time', pd.to_datetime([span[1] for span in ds.date.values])),\n",
    "                           'y': ('y', latrange),\n",
    "                           'x': ('x', lonrange)})\n",
    "    ds = ds.drop('date')\n",
    "    ds = ds.rio.write_crs(crs)\n",
    "    \n",
    "    return ds"
   ]
  },
  {
   "cell_type": "code",
   "execution_count": null,
   "id": "6348305d-d477-48f4-b8d2-8e1fa98c994b",
   "metadata": {
    "tags": []
   },
   "outputs": [],
   "source": [
    "def open_summer_mintpy(orbit, year_list, suffix=''):\n",
    "    ds_list = []\n",
    "    home_path = '/mnt/d/indennt/mintpy_app'\n",
    "    for year in year_list:\n",
    "        mintpy_path = f'{home_path}/{orbit}/mintpy_{year}{suffix}'\n",
    "        ts_ds = mintpyTS_to_xarray(f'{mintpy_path}/timeseries_ramp_demErr.h5', 32612)\n",
    "        ts_ds = ts_ds.assign_coords({'year':('year', [int(year)])})\n",
    "        ds_list.append(ts_ds)\n",
    "\n",
    "    return ds_list\n",
    "\n",
    "def load_aois(path, id):\n",
    "    aoi_fn = f'{path}/rg{id}.shp'\n",
    "    aoi_gdf = gpd.read_file(aoi_fn)\n",
    "\n",
    "    stable_fn = f'{path}/stable{id}.shp'\n",
    "    stable_gdf = gpd.read_file(stable_fn)\n",
    "\n",
    "    ref_fn = f'{path}/ref{id}.shp'\n",
    "    ref_gdf = gpd.read_file(ref_fn)\n",
    "\n",
    "    return [aoi_gdf, stable_gdf, ref_gdf]\n",
    "\n",
    "# change reference points\n",
    "def change_ref(ds, rref):\n",
    "    rref_ds = ds.copy(deep=True)\n",
    "    rref_da = ds.displacement.sel(y=rref[1], x=rref[0], method='nearest')\n",
    "    rref_ds['displacement'] = ds.displacement - rref_da\n",
    "    return rref_ds\n",
    "\n",
    "def change_ref_list(ds_list, rref):\n",
    "    for i, ds in enumerate(ds_list):\n",
    "        ds = change_ref(ds, rref)\n",
    "        ds_list[i] = ds\n",
    "\n",
    "    return ds_list\n",
    "\n",
    "def crop_to_aois(ds_list, aoi_list):\n",
    "    ds_list_aoi = []\n",
    "    ds_list_stable = []\n",
    "    ds_list_ref = []\n",
    "    for ds in ds_list:\n",
    "        print(f'working on {ds.year.item()}')\n",
    "        ds_list_aoi.append(ds.rio.clip(aoi_list[0].geometry, crs=aoi_list[0].crs, drop=True))\n",
    "        ds_list_stable.append(ds.rio.clip(aoi_list[1].geometry, crs=aoi_list[1].crs, drop=True))\n",
    "        ds_list_ref.append(ds.rio.clip(aoi_list[2].geometry, crs=aoi_list[2].crs, drop=True))\n",
    "        gc.collect()\n",
    "\n",
    "    return [ds_list_aoi, ds_list_stable, ds_list_ref]\n",
    "\n",
    "def mean_disp(ds_list_aoi):\n",
    "    mean_list_aoi = []\n",
    "    mean_list_stable = []\n",
    "    mean_list_ref = []\n",
    "    for ds in ds_list_aoi[0]:\n",
    "        mean = ds.displacement.mean(dim=('y', 'x'))\n",
    "        mean_list_aoi.append(mean)\n",
    "    for ds in ds_list_aoi[1]:\n",
    "        mean = ds.displacement.mean(dim=('y', 'x'))\n",
    "        mean_list_stable.append(mean)\n",
    "    for ds in ds_list_aoi[2]:\n",
    "        mean = ds.displacement.mean(dim=('y', 'x'))\n",
    "        mean_list_ref.append(mean)\n",
    "\n",
    "    return [mean_list_aoi, mean_list_stable, mean_list_ref]"
   ]
  },
  {
   "cell_type": "code",
   "execution_count": null,
   "id": "a08c8b07-abe3-4670-9cbe-ae1cc31ebdb3",
   "metadata": {
    "tags": []
   },
   "outputs": [],
   "source": [
    "orbit = 'AT137'\n",
    "year_list = ['2017', '2018', '2019', '2020', '2021']\n",
    "\n",
    "ds_list_CNN = open_summer_mintpy(orbit, year_list)\n",
    "ds_list_uncorrected = open_summer_mintpy(orbit, year_list, suffix='_uncorrected')\n",
    "# ds_list_murp = open_summer_mintpy(orbit, year_list, suffix='_MuRP')\n",
    "# ds_list_era5 = open_summer_mintpy(orbit, year_list, suffix='_ERA5')"
   ]
  },
  {
   "cell_type": "code",
   "execution_count": null,
   "id": "9e6eba38",
   "metadata": {
    "tags": []
   },
   "outputs": [],
   "source": [
    "aoi_list = load_aois('/mnt/d/indennt/polygons/aois', 5)\n",
    "\n",
    "ds_list_aoi_CNN = crop_to_aois(ds_list_CNN, aoi_list)\n",
    "ds_list_aoi_uncorrected = crop_to_aois(ds_list_uncorrected, aoi_list)"
   ]
  },
  {
   "cell_type": "code",
   "execution_count": null,
   "id": "cf7efebf-70e1-4dc5-bf0c-6bac21b5007f",
   "metadata": {},
   "outputs": [],
   "source": [
    "mean_list_CNN = mean_disp(ds_list_aoi_CNN)\n",
    "mean_list_uncorrected = mean_disp(ds_list_aoi_uncorrected)"
   ]
  },
  {
   "cell_type": "markdown",
   "id": "db629866",
   "metadata": {},
   "source": [
    "## Displacement of aoi"
   ]
  },
  {
   "cell_type": "code",
   "execution_count": null,
   "id": "675fb3f3",
   "metadata": {
    "tags": []
   },
   "outputs": [],
   "source": [
    "colors = ['red', 'orange', 'gold', 'green', 'blue', 'indigo', 'orchid']\n",
    "\n",
    "sns.set_theme()\n",
    "f, ax = plt.subplots(1, 2, figsize=(7.5,3), sharex=True, sharey=True)\n",
    "\n",
    "ax[0].axhline(y=0, c='gray', alpha=0.5)\n",
    "ax[1].axhline(y=0, c='gray', alpha=0.5)\n",
    "\n",
    "# plot corrected aoi\n",
    "for i, da in enumerate(mean_list_CNN[0]):\n",
    "    da = da - mean_list_CNN[2][i]\n",
    "    da['time'] = da.time.dt.strftime('2020-%m-%d').astype(\"datetime64[ns]\") # remove year from date\n",
    "    da = da - da.isel(time=0) # set starting displacement value to 0\n",
    "    da = da*-100\n",
    "    da.plot(ax=ax[0], label=year_list[i], c=colors[i],\n",
    "            marker='o', markersize=4, linewidth=1, alpha=0.7)\n",
    "    \n",
    "# plot corrected stable area\n",
    "for i, da in enumerate(mean_list_CNN[1]):\n",
    "    da = da - mean_list_CNN[2][i]\n",
    "    da['time'] = da.time.dt.strftime('2020-%m-%d').astype(\"datetime64[ns]\") # remove year from date\n",
    "    da = da - da.isel(time=0) # set starting displacement value to 0\n",
    "    da = da*-100\n",
    "    da.plot(ax=ax[1], label=year_list[i], c=colors[i],\n",
    "            marker='o', markersize=4, linewidth=1, alpha=0.7)\n",
    "\n",
    "date_form = DateFormatter(\"%m-%d\")\n",
    "ax[0].xaxis.set_major_formatter(date_form)\n",
    "\n",
    "ax[0].set_title(None)\n",
    "ax[1].set_title(None)\n",
    "ax[0].set_ylabel('displacement (cm)')\n",
    "ax[1].set_ylabel(None)\n",
    "ax[0].set_xlabel(None)\n",
    "ax[1].set_xlabel(None)\n",
    "f.tight_layout()\n",
    "#plt.savefig('../../figs/rg4-ref4_wref_CNN.png', dpi=300, bbox_inches='tight')\n",
    "#ax.legend();"
   ]
  },
  {
   "cell_type": "code",
   "execution_count": null,
   "id": "197d6525-db99-453e-be93-5fe4bc3f8046",
   "metadata": {},
   "outputs": [],
   "source": [
    "sns.set_theme()\n",
    "f, ax = plt.subplots(1, 2, figsize=(7.5,3), sharex=True, sharey=True)\n",
    "\n",
    "ax[0].axhline(y=0, c='gray', alpha=0.5)\n",
    "ax[1].axhline(y=0, c='gray', alpha=0.5)\n",
    "\n",
    "# plot uncorrected aoi\n",
    "for i, da in enumerate(mean_list_uncorrected[0]):\n",
    "    da = da - mean_list_uncorrected[2][i]\n",
    "    da['time'] = da.time.dt.strftime('2020-%m-%d').astype(\"datetime64[ns]\") # remove year from date\n",
    "    da = da - da.isel(time=0) # set starting displacement value to 0\n",
    "    da = da*-100\n",
    "    da.plot(ax=ax[0], label=year_list[i], c=colors[i],\n",
    "            marker='o', markersize=4, linewidth=1, alpha=0.7)\n",
    "\n",
    "# plot uncorrected stable area\n",
    "for i, da in enumerate(mean_list_uncorrected[1]):\n",
    "    da = da - mean_list_uncorrected[2][i]\n",
    "    da['time'] = da.time.dt.strftime('2020-%m-%d').astype(\"datetime64[ns]\") # remove year from date\n",
    "    da = da - da.isel(time=0) # set starting displacement value to 0\n",
    "    da = da*-100\n",
    "    da.plot(ax=ax[1], label=year_list[i], c=colors[i],\n",
    "            marker='o', markersize=4, linewidth=1, alpha=0.7)\n",
    "\n",
    "date_form = DateFormatter(\"%m-%d\")\n",
    "ax[0].xaxis.set_major_formatter(date_form)\n",
    "\n",
    "ax[0].set_title(None)\n",
    "ax[1].set_title(None)\n",
    "ax[0].set_ylabel('displacement (cm)')\n",
    "ax[1].set_ylabel(None)\n",
    "ax[0].set_xlabel(None)\n",
    "ax[1].set_xlabel(None)\n",
    "f.tight_layout()\n",
    "\n",
    "#plt.savefig('../../figs/rg4-ref4_wref_uncorrected.png', dpi=300, bbox_inches='tight')\n",
    "#ax.legend();"
   ]
  }
 ],
 "metadata": {
  "kernelspec": {
   "display_name": "Python [conda env:gda] *",
   "language": "python",
   "name": "conda-env-gda-py"
  },
  "language_info": {
   "codemirror_mode": {
    "name": "ipython",
    "version": 3
   },
   "file_extension": ".py",
   "mimetype": "text/x-python",
   "name": "python",
   "nbconvert_exporter": "python",
   "pygments_lexer": "ipython3",
   "version": "3.8.16"
  }
 },
 "nbformat": 4,
 "nbformat_minor": 5
}
