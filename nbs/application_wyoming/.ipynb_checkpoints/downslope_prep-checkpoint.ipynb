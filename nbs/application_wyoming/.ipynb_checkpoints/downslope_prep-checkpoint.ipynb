{
 "cells": [
  {
   "cell_type": "code",
   "execution_count": null,
   "id": "8828baac-7b4f-4678-aba0-ce50954dc1ed",
   "metadata": {},
   "outputs": [],
   "source": []
  },
  {
   "cell_type": "code",
   "execution_count": null,
   "id": "61c62295-2d28-4b50-b959-d725ba26872a",
   "metadata": {},
   "outputs": [],
   "source": []
  },
  {
   "cell_type": "code",
   "execution_count": null,
   "id": "ceb16b70-2a78-4351-a989-97961c018822",
   "metadata": {},
   "outputs": [],
   "source": [
    "# function to find downslope displacement for a single pixel\n",
    "def downslope(los_d, slope, azimuth, heading=345, incidence=35):\n",
    "    slope = math.radians(slope)\n",
    "    azimuth = math.radians(azimuth)\n",
    "    heading = math.radians(heading-180)\n",
    "    incidence = math.radians(incidence)\n",
    "    a = heading - azimuth\n",
    "\n",
    "    slope_d = los_d/(math.sin(a)*math.sin(incidence)*math.cos(slope)+math.cos(incidence)*math.sin(slope))\n",
    "\n",
    "    return slope_d  "
   ]
  },
  {
   "cell_type": "code",
   "execution_count": null,
   "id": "767b89f6-9617-4c3e-af4a-e14c0e399443",
   "metadata": {},
   "outputs": [],
   "source": [
    "def calc_slope_azimuth(ds):\n",
    "    for orbit in orbit_list:\n",
    "        print(f'working on {orbit}')\n",
    "            for year in year_list:\n",
    "                print(f'working on {orbit}, {year}')\n",
    "                hyp3_path = f'/mnt/d/indennt/hyp3_app/{orbit}/{year}'\n",
    "                hyp3_list = os.listdir(hyp3_path)\n",
    "                for i, granule in enumerate(hyp3_list):\n",
    "                    granule_path = f'{hyp3_path}/{granule}'\n",
    "                    if os.path.exists(f'{granule_path}/{granule}_slope.tif'):\n",
    "                        print(f'slope already in {granule}, skipping') \n",
    "                        continue\n",
    "                    print(f'working on {granule}, {i}/{len(hyp3_list)}')\n",
    "                    os.chdir(granule_path)\n",
    "                    \n",
    "                    dem_fn = f'{granule}_dem.tif'\n",
    "                    slope_fn = f'{granule}_slope.tif'\n",
    "                    aspect_fn = f'{granule}_aspect.tif'\n",
    "                    \n",
    "                    !gdaldem slope $dem_fn $slope_fn \n",
    "                    !gdaldem aspect $dem_fn $aspect_fn"
   ]
  },
  {
   "cell_type": "code",
   "execution_count": null,
   "id": "40bce048-ac5f-4395-9258-1862ea5f1d09",
   "metadata": {},
   "outputs": [],
   "source": [
    "def los_to_downslope(ds, "
   ]
  },
  {
   "cell_type": "code",
   "execution_count": null,
   "id": "21e5567f-7261-4cd1-a248-13a0b0a26347",
   "metadata": {},
   "outputs": [],
   "source": []
  }
 ],
 "metadata": {
  "kernelspec": {
   "display_name": "Python 3 (ipykernel)",
   "language": "python",
   "name": "python3"
  },
  "language_info": {
   "codemirror_mode": {
    "name": "ipython",
    "version": 3
   },
   "file_extension": ".py",
   "mimetype": "text/x-python",
   "name": "python",
   "nbconvert_exporter": "python",
   "pygments_lexer": "ipython3",
   "version": "3.11.0"
  }
 },
 "nbformat": 4,
 "nbformat_minor": 5
}
