{
 "cells": [
  {
   "cell_type": "code",
   "execution_count": 1,
   "id": "6c766f64",
   "metadata": {},
   "outputs": [],
   "source": [
    "# Import required packages\n",
    "import os\n",
    "import mintpy"
   ]
  },
  {
   "cell_type": "code",
   "execution_count": null,
   "id": "52ed07a6-5cd1-428e-8e7b-aa8eebec1b36",
   "metadata": {},
   "outputs": [],
   "source": [
    "orbit = 'DT56'\n",
    "year = '2017'\n",
    "frame = 'frame_3'\n",
    "data_path = f'../proc/data/signal_mintpy/{orbit}_crop/{frame}'"
   ]
  },
  {
   "cell_type": "code",
   "execution_count": null,
   "id": "4d07cbe7-c8e5-4ca1-b072-897bb44fa8e4",
   "metadata": {},
   "outputs": [],
   "source": [
    "os.mkdir(f'{data_path}/mintpy_{year}')"
   ]
  },
  {
   "cell_type": "code",
   "execution_count": 4,
   "id": "033276cd",
   "metadata": {},
   "outputs": [],
   "source": [
    "# Function to write to MintPy config file\n",
    "def write_config_file(out_file, CONFIG_TXT, mode='a'): \n",
    "    \"\"\"Write configuration files for MintPy to process products\"\"\"\n",
    "    if not os.path.isfile(out_file) or mode == 'w':\n",
    "        with open(out_file, \"w\") as fid:\n",
    "            fid.write(CONFIG_TXT)\n",
    "        print('write configuration to file: {}'.format(out_file))\n",
    "    else:\n",
    "        with open(out_file, \"a\") as fid:\n",
    "            fid.write(\"\\n\" + CONFIG_TXT)\n",
    "        print('add the following to file: \\n{}'.format(CONFIG_TXT))"
   ]
  },
  {
   "cell_type": "code",
   "execution_count": 8,
   "id": "323ef617",
   "metadata": {},
   "outputs": [
    {
     "name": "stdout",
     "output_type": "stream",
     "text": [
      "write configuration to file: /mnt/c/Users/qbren/Desktop/taco/projects/uw_subsidence/proc/mintpy/uw_subsidenceSenAT64.txt\n"
     ]
    }
   ],
   "source": [
    "CONFIG_TXT = f'''# vim: set filetype=cfg:\n",
    "##----------------------------- hyp3 ---------------------##\n",
    "mintpy.load.processor        = hyp3\n",
    "##---------interferogram datasets:\n",
    "mintpy.load.unwFile          = {data_path}/*/*{year}*unw_phase.tif\n",
    "mintpy.load.corFile          = {data_path}/*/*{year}*corr.tif\n",
    "##---------geometry datasets:\n",
    "mintpy.load.demFile          = {data_path}/*/*{year}*dem.tif\n",
    "mintpy.load.incAngleFile     = {data_path}/*/*{year}*lv_theta.tif\n",
    "mintpy.load.waterMaskFile    = {data_path}/*/*{year}*water_mask.tif\n",
    "\n",
    "mintpy.deramp                = linear\n",
    "mintpy.reference.lalo        = auto\n",
    "mintpy.troposphericDelay.method   = height_correlation\n",
    "mintpy.troposphericDelay.minCorrelation = 0.8\n",
    "'''\n",
    "\n",
    "config_file = os.path.join(f'{data_path}/mintpy_{year}', f\"{frame}_{year}_Sen{orbit}.txt\")\n",
    "write_config_file(config_file, CONFIG_TXT, mode='w')"
   ]
  },
  {
   "cell_type": "code",
   "execution_count": null,
   "id": "57cbb655-52c7-48b8-b20e-1f3e24c3c2b1",
   "metadata": {},
   "outputs": [],
   "source": [
    "def run_mintpy(config_file):\n",
    "    !smallbaselineApp.py f'{config_file}' --dostep load_data\n",
    "    !smallbaselineApp.py f'{config_file}' --dostep modify_network\n",
    "    !smallbaselineApp.py f'{config_file}' --dostep reference_point\n",
    "    !smallbaselineApp.py f'{config_file}' --dostep quick_overview\n",
    "    !smallbaselineApp.py f'{config_file}' --dostep invert_network\n",
    "    !smallbaselineApp.py f'{config_file}' --dostep correct_troposphere\n",
    "    !smallbaselineApp.py f'{config_file}' --dostep deramp\n",
    "    !smallbaselineApp.py f'{config_file}' --dostep correct_topography\n",
    "    !smallbaselineApp.py f'{config_file}' --dostep velocity"
   ]
  },
  {
   "cell_type": "code",
   "execution_count": null,
   "id": "7dff23aa-8274-468a-8173-bfb3d0e89491",
   "metadata": {},
   "outputs": [],
   "source": [
    "run_mintpy(config_file)"
   ]
  }
 ],
 "metadata": {
  "kernelspec": {
   "display_name": "Python 3 (ipykernel)",
   "language": "python",
   "name": "python3"
  },
  "language_info": {
   "codemirror_mode": {
    "name": "ipython",
    "version": 3
   },
   "file_extension": ".py",
   "mimetype": "text/x-python",
   "name": "python",
   "nbconvert_exporter": "python",
   "pygments_lexer": "ipython3",
   "version": "3.8.16"
  }
 },
 "nbformat": 4,
 "nbformat_minor": 5
}
