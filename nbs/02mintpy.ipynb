{
 "cells": [
  {
   "cell_type": "code",
   "execution_count": 12,
   "id": "6c766f64",
   "metadata": {},
   "outputs": [],
   "source": [
    "# Import required packages\n",
    "import os\n",
    "import mintpy\n",
    "from pathlib import Path\n",
    "from typing import List, Union\n",
    "from osgeo import gdal"
   ]
  },
  {
   "cell_type": "code",
   "execution_count": 13,
   "id": "52ed07a6-5cd1-428e-8e7b-aa8eebec1b36",
   "metadata": {},
   "outputs": [],
   "source": [
    "orbit = 'DT56'\n",
    "year = '2017'\n",
    "frame = 'frame_3'\n",
    "home_path = '/mnt/c/Users/qbren/Desktop/taco/projects/indennt/proc/data'\n",
    "data_path = f'{home_path}/hyp3/{orbit}/{frame}/{year}'"
   ]
  },
  {
   "cell_type": "markdown",
   "id": "d910045f-42cf-4bf6-8c42-abda85c05b03",
   "metadata": {},
   "source": [
    "## clip files to common extent"
   ]
  },
  {
   "cell_type": "code",
   "execution_count": 14,
   "id": "1ec0ec07-2bfd-4a78-b90a-df7ea38c24c6",
   "metadata": {},
   "outputs": [],
   "source": [
    "def get_common_overlap(file_list: List[Union[str, Path]]) -> List[float]:\n",
    "    \"\"\"Get the common overlap of  a list of GeoTIFF files\n",
    "    \n",
    "    Arg:\n",
    "        file_list: a list of GeoTIFF files\n",
    "    \n",
    "    Returns:\n",
    "         [ulx, uly, lrx, lry], the upper-left x, upper-left y, lower-right x, and lower-right y\n",
    "         corner coordinates of the common overlap\n",
    "    \"\"\"\n",
    "    \n",
    "    corners = [gdal.Info(str(dem), format='json')['cornerCoordinates'] for dem in file_list]\n",
    "\n",
    "    ulx = max(corner['upperLeft'][0] for corner in corners)\n",
    "    uly = min(corner['upperLeft'][1] for corner in corners)\n",
    "    lrx = min(corner['lowerRight'][0] for corner in corners)\n",
    "    lry = max(corner['lowerRight'][1] for corner in corners)\n",
    "    return [ulx, uly, lrx, lry]"
   ]
  },
  {
   "cell_type": "code",
   "execution_count": 15,
   "id": "c8aeb241-e1b8-404d-b156-11177471a9a2",
   "metadata": {},
   "outputs": [],
   "source": [
    "def clip_hyp3_products_to_common_overlap(data_path: Union[str, Path], overlap: List[float]) -> None:\n",
    "    \"\"\"Clip all GeoTIFF files to their common overlap\n",
    "    \n",
    "    Args:\n",
    "        data_dir:\n",
    "            directory containing the GeoTIFF files to clip\n",
    "        overlap:\n",
    "            a list of the upper-left x, upper-left y, lower-right-x, and lower-tight y\n",
    "            corner coordinates of the common overlap\n",
    "    Returns: None\n",
    "    \"\"\"\n",
    "    \n",
    "    files_for_mintpy = ['_water_mask.tif', '_corr.tif', '_unw_phase_MuRP.tif', '_dem.tif', '_lv_theta.tif', '_lv_phi.tif']\n",
    "\n",
    "    for extension in files_for_mintpy:\n",
    "        print(f'working on {extension}') \n",
    "        for file in data_path.rglob(f'*{extension}'):\n",
    "\n",
    "            dst_file = file.parent / f'{file.stem}_clipped{file.suffix}'\n",
    "\n",
    "            gdal.Translate(destName=str(dst_file), srcDS=str(file), projWin=overlap)"
   ]
  },
  {
   "cell_type": "markdown",
   "id": "7b0dc256-88c0-4ac9-88aa-4ee420ca1e1d",
   "metadata": {},
   "source": [
    "## Mintpy"
   ]
  },
  {
   "cell_type": "code",
   "execution_count": 16,
   "id": "033276cd",
   "metadata": {},
   "outputs": [],
   "source": [
    "# Function to write to MintPy config file\n",
    "def write_config_file(out_file, CONFIG_TXT, mode='a'): \n",
    "    \"\"\"Write configuration files for MintPy to process products\"\"\"\n",
    "    if not os.path.isfile(out_file) or mode == 'w':\n",
    "        with open(out_file, \"w\") as fid:\n",
    "            fid.write(CONFIG_TXT)\n",
    "        print('write configuration to file: {}'.format(out_file))\n",
    "    else:\n",
    "        with open(out_file, \"a\") as fid:\n",
    "            fid.write(\"\\n\" + CONFIG_TXT)\n",
    "        print('add the following to file: \\n{}'.format(CONFIG_TXT))"
   ]
  },
  {
   "cell_type": "code",
   "execution_count": 17,
   "id": "323ef617",
   "metadata": {},
   "outputs": [],
   "source": [
    "CONFIG_TXT = f'''# vim: set filetype=cfg:\n",
    "##----------------------------- hyp3 ---------------------##\n",
    "mintpy.load.processor        = hyp3\n",
    "##---------interferogram datasets:\n",
    "mintpy.load.unwFile          = {data_path}/*/*{year}*unw_phase_MuRP_clipped.tif\n",
    "mintpy.load.corFile          = {data_path}/*/*{year}*corr_clipped.tif\n",
    "##---------geometry datasets:\n",
    "mintpy.load.demFile          = {data_path}/*/*{year}*dem_clipped.tif\n",
    "mintpy.load.incAngleFile     = {data_path}/*/*{year}*lv_theta_clipped.tif\n",
    "mintpy.load.waterMaskFile    = {data_path}/*/*{year}*water_mask_clipped.tif\n",
    "\n",
    "mintpy.deramp                = linear\n",
    "mintpy.reference.lalo        = auto\n",
    "mintpy.troposphericDelay.method   = no\n",
    "\n",
    "mintpy.compute.cluster    = local\n",
    "mintpy.compute.numWorker  = 4\n",
    "\n",
    "'''"
   ]
  },
  {
   "cell_type": "code",
   "execution_count": 20,
   "id": "42499563-1225-4427-8863-4ef390300f12",
   "metadata": {},
   "outputs": [],
   "source": [
    "# function to clip files and run mintpy for multiple years \n",
    "def mintpy_multiyear(orbit, year_list, frame_list, config_text, clip=True, mintpy=True, clean_clip=True):\n",
    "    # hardcoded paths for now \n",
    "    home_path = '/mnt/c/Users/qbren/Desktop/taco/projects/indennt/proc/data'\n",
    "    for frame in frame_list:\n",
    "        print(f'working on {frame}')\n",
    "        for year in year_list:\n",
    "            print(f'working on {year}')\n",
    "            data_path = f'{home_path}/hyp3/{orbit}/{frame}/{year}'\n",
    "            mintpy_path = f'{home_path}/signal_mintpy/{orbit}/{frame}/mintpy_{year}'\n",
    "\n",
    "            if clip==True:\n",
    "                # identify and crop to common overlap\n",
    "                print('identifying common overlap')\n",
    "                dem_files = Path(data_path).glob('*/*_dem.tif')\n",
    "                overlap = get_common_overlap(dem_files)\n",
    "                print('clipping to common overlap')\n",
    "                clip_hyp3_products_to_common_overlap(Path(data_path), overlap)\n",
    "\n",
    "            # make output dir for mintpy\n",
    "            if not os.path.exists(mintpy_path):\n",
    "                os.mkdir(mintpy_path)\n",
    "\n",
    "            # write config file for mintpy\n",
    "            os.chdir(mintpy_path)\n",
    "            config_file = f'{mintpy_path}/{frame}_{year}_Sen{orbit}.txt'\n",
    "            write_config_file(config_file, config_text, mode='w')\n",
    "\n",
    "            if mintpy==True:\n",
    "                # run mintpy\n",
    "                print('starting mintpy')\n",
    "                !smallbaselineApp.py --dir {mintpy_path} {config_file}\n",
    "\n",
    "            if clean_clip==True:\n",
    "                # remove clipped files\n",
    "                print('removing clipped files')\n",
    "                clipped_files = f'{data_path}/*/*_clipped.tif'\n",
    "                !rm {clipped_files}"
   ]
  },
  {
   "cell_type": "code",
   "execution_count": 22,
   "id": "8cf39b43-8dac-40e1-b054-406c9e8706a4",
   "metadata": {
    "scrolled": true
   },
   "outputs": [
    {
     "name": "stdout",
     "output_type": "stream",
     "text": [
      "working on frame_3\n",
      "working on 2017\n",
      "write configuration to file: /mnt/c/Users/qbren/Desktop/taco/projects/indennt/proc/data/signal_mintpy/DT56/frame_3/mintpy_2017/frame_3_2017_SenDT56.txt\n",
      "removing clipped files\n"
     ]
    }
   ],
   "source": [
    "mintpy_multiyear(orbit, [year], [frame], CONFIG_TXT, clip=False, mintpy=False, clean_clip=True)"
   ]
  }
 ],
 "metadata": {
  "kernelspec": {
   "display_name": "Python [conda env:mintpy] *",
   "language": "python",
   "name": "conda-env-mintpy-py"
  },
  "language_info": {
   "codemirror_mode": {
    "name": "ipython",
    "version": 3
   },
   "file_extension": ".py",
   "mimetype": "text/x-python",
   "name": "python",
   "nbconvert_exporter": "python",
   "pygments_lexer": "ipython3",
   "version": "3.11.3"
  }
 },
 "nbformat": 4,
 "nbformat_minor": 5
}
