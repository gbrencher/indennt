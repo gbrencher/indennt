{
 "cells": [
  {
   "cell_type": "code",
   "execution_count": 9,
   "id": "b07d24cf-cc1a-4100-acc8-f3b914b7379b",
   "metadata": {},
   "outputs": [],
   "source": [
    "import os\n",
    "from os import listdir\n",
    "import matplotlib.pyplot as plt\n",
    "import matplotlib.collections as mc\n",
    "from matplotlib.dates import date2num\n",
    "import datetime\n",
    "import time\n",
    "import pandas as pd\n",
    "import numpy as np\n",
    "import seaborn as sns\n",
    "from glob import glob"
   ]
  },
  {
   "cell_type": "code",
   "execution_count": 23,
   "id": "3895290d-717a-4e45-b51a-a1cf59b4e32e",
   "metadata": {},
   "outputs": [],
   "source": [
    "def year_fraction(date):\n",
    "    start = datetime.date(date.year, 1, 1).toordinal()\n",
    "    year_length = datetime.date(date.year+1, 1, 1).toordinal() - start\n",
    "    return date.year + float(date.toordinal() - start) / year_length\n",
    "\n",
    "def lines_from_granule(granule_list):\n",
    "    lines = []\n",
    "    \n",
    "    for i, granule in enumerate(granule_list):\n",
    "        lines.append([(year_fraction(datetime.datetime.strptime(granule[5:13], '%Y%m%d')), i),\n",
    "                      (year_fraction(datetime.datetime.strptime(granule[21:29], '%Y%m%d')), i)])\n",
    "    return lines\n",
    "\n",
    "def remove_dups(glob_list):\n",
    "    new_list = []\n",
    "    dates_list = []\n",
    "    for i, path in enumerate(glob_list):\n",
    "        granule = os.path.basename(path)\n",
    "        dates = f'{granule[5:13]}_{granule[21:29]}'\n",
    "        if not dates in dates_list:\n",
    "            new_list.append(granule)\n",
    "            dates_list.append(dates)\n",
    "    return new_list\n",
    "\n",
    "def count_connections(glob_list):\n",
    "    count_dict = {}\n",
    "    for i, path in enumerate(glob_list):\n",
    "        granule = os.path.basename(path)\n",
    "        start = granule[5:20]\n",
    "        stop = granule[21:36]\n",
    "        if not start in count_dict.keys():\n",
    "            count_dict[start] = 0\n",
    "        if not stop in count_dict.keys():\n",
    "            count_dict[stop] = 0\n",
    "        count_dict[start] += 1\n",
    "        count_dict[stop] += 1\n",
    "    return count_dict"
   ]
  },
  {
   "cell_type": "code",
   "execution_count": 11,
   "id": "ca921c26-b901-4bea-aa55-eb0bbcef8988",
   "metadata": {},
   "outputs": [],
   "source": [
    "data_dir = '/mnt/d/indennt'"
   ]
  },
  {
   "cell_type": "code",
   "execution_count": 12,
   "id": "d06b78cd-9934-4aae-a98f-94e9a3ec0c6a",
   "metadata": {},
   "outputs": [],
   "source": [
    "asc_paths_signal = glob(f'{data_dir}/hyp3/AT151/*/*/*')\n",
    "asc_paths_noise = glob(f'{data_dir}/hyp3/AT151/*/*/*P012*')\n",
    "des_paths_signal = glob(f'{data_dir}/hyp3/DT56/*/*/*')\n",
    "des_paths_noise = glob(f'{data_dir}/hyp3/DT56/*/*/*P012*')\n",
    "asc_paths_test = glob(f'{data_dir}/hyp3_app/AT137/*/*')"
   ]
  },
  {
   "cell_type": "code",
   "execution_count": 33,
   "id": "de6e8506-2a23-41e3-89c5-413e9c3a064c",
   "metadata": {},
   "outputs": [
    {
     "data": {
      "text/plain": [
       "6.939632545931759"
      ]
     },
     "execution_count": 33,
     "metadata": {},
     "output_type": "execute_result"
    }
   ],
   "source": [
    "np.mean(list(count_connections(asc_paths_signal).values())+list(count_connections(des_paths_signal).values()))"
   ]
  },
  {
   "cell_type": "code",
   "execution_count": null,
   "id": "c6f6efd2-43ca-402c-9a5c-c805870d9efc",
   "metadata": {},
   "outputs": [],
   "source": [
    "asc_signal_lines = lines_from_granule(remove_dups(asc_paths_signal))\n",
    "asc_noise_lines = lines_from_granule(remove_dups(asc_paths_noise))\n",
    "des_signal_lines = lines_from_granule(remove_dups(des_paths_signal))\n",
    "des_noise_lines = lines_from_granule(remove_dups(des_paths_noise))\n",
    "asc_test_lines = lines_from_granule(remove_dups(asc_paths_test))"
   ]
  },
  {
   "cell_type": "code",
   "execution_count": null,
   "id": "fd207b21-d1d3-4c54-ac68-094d8181b74d",
   "metadata": {},
   "outputs": [],
   "source": [
    "asc_signal_lc = mc.LineCollection(asc_signal_lines, linewidths=1.5, color='indianred')\n",
    "des_signal_lc = mc.LineCollection(des_signal_lines, linewidths=1.5, color='darkturquoise')\n",
    "asc_noise_lc = mc.LineCollection(asc_noise_lines, linewidths=1.5, color='indianred')\n",
    "des_noise_lc = mc.LineCollection(des_noise_lines, linewidths=1.5, color='darkturquoise')\n",
    "asc_test_lc = mc.LineCollection(asc_test_lines, linewidths=1.5, color='indianred')"
   ]
  },
  {
   "cell_type": "code",
   "execution_count": null,
   "id": "099270ac-7607-4ce6-8968-cb857833cf45",
   "metadata": {},
   "outputs": [],
   "source": [
    "plt.style.use('seaborn')\n",
    "f, ax = plt.subplots(2, 2, figsize=(6, 8.5), height_ratios=[3, 1], sharex=True)\n",
    "ax[0][0].add_collection(des_signal_lc)\n",
    "ax[0][0].add_collection(asc_signal_lc)\n",
    "ax[1][0].add_collection(des_noise_lc)\n",
    "ax[1][0].add_collection(asc_noise_lc)\n",
    "\n",
    "ax[0][1].add_collection(asc_test_lc)\n",
    "\n",
    "asc_signal_lc.set_snap(False)\n",
    "des_signal_lc.set_snap(False)\n",
    "asc_noise_lc.set_snap(False)\n",
    "des_noise_lc.set_snap(False)\n",
    "asc_test_lc.set_snap(False)\n",
    "\n",
    "ax[0][0].set_xlim(2017.3, 2021.9)\n",
    "ax[0][0].set_ylim(-1, 215)\n",
    "ax[1][0].set_xlim(2017.3, 2021.9)\n",
    "ax[1][0].set_ylim(-1, 55)\n",
    "\n",
    "ax[0][1].set_xlim(2017.3, 2021.9)\n",
    "ax[0][1].set_ylim(-1, 255)\n",
    "\n",
    "plt.tight_layout()\n",
    "\n",
    "plt.savefig('../../figs/tbline_all.png', dpi=300)"
   ]
  }
 ],
 "metadata": {
  "kernelspec": {
   "display_name": "Python 3 (ipykernel)",
   "language": "python",
   "name": "python3"
  },
  "language_info": {
   "codemirror_mode": {
    "name": "ipython",
    "version": 3
   },
   "file_extension": ".py",
   "mimetype": "text/x-python",
   "name": "python",
   "nbconvert_exporter": "python",
   "pygments_lexer": "ipython3",
   "version": "3.8.16"
  }
 },
 "nbformat": 4,
 "nbformat_minor": 5
}
