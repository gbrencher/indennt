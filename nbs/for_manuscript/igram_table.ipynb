{
 "cells": [
  {
   "cell_type": "code",
   "execution_count": 10,
   "id": "ad97b419-9b93-487b-901b-233b54d139c4",
   "metadata": {},
   "outputs": [],
   "source": [
    "import os\n",
    "from os import listdir\n",
    "import matplotlib.pyplot as plt\n",
    "import matplotlib.collections as mc\n",
    "from matplotlib.dates import date2num\n",
    "import datetime\n",
    "import time\n",
    "import pandas as pd\n",
    "import numpy as np\n",
    "import seaborn as sns\n",
    "from glob import glob"
   ]
  },
  {
   "cell_type": "code",
   "execution_count": 11,
   "id": "0978da35-8a65-4d34-8cf5-24053152b05b",
   "metadata": {},
   "outputs": [],
   "source": [
    "def calc_tbaseline(primary_date, secondary_date):\n",
    "    tbaseline = (datetime.datetime.strptime(secondary_date, '%Y%m%d') -\n",
    "                 datetime.datetime.strptime(primary_date, '%Y%m%d')).days\n",
    "    tbaseline = f'{tbaseline} days'\n",
    "    return tbaseline\n",
    "\n",
    "\n",
    "def path_to_df(hyp3_path, track):\n",
    "    glob_list = glob(hyp3_path)\n",
    "    granule_list = []\n",
    "    primary_list = []\n",
    "    secondary_list = []\n",
    "    track_list = []\n",
    "    tbaseline_list = []\n",
    "    for i, path in enumerate(glob_list):\n",
    "        granule = os.path.basename(path)\n",
    "        granule_list.append(granule)\n",
    "        primary_date = granule[5:13]\n",
    "        primary_list.append(primary_date)\n",
    "        secondary_date = granule[21:29]\n",
    "        secondary_list.append(secondary_date)\n",
    "        tbaseline =  calc_tbaseline(primary_date, secondary_date)\n",
    "        tbaseline_list.append(tbaseline)\n",
    "\n",
    "    df = pd.DataFrame.from_dict({'track': track,\n",
    "                            'primary acquisition date':primary_list,\n",
    "                            'secondary acquistion date':secondary_list, \n",
    "                            'temporal baseline':tbaseline_list,\n",
    "                            'HyP3 granule name':granule_list})\n",
    "    return df\n",
    "                                \n",
    "        "
   ]
  },
  {
   "cell_type": "code",
   "execution_count": 12,
   "id": "5d2adcfa-771b-4493-aeed-01ff4825d7c1",
   "metadata": {},
   "outputs": [],
   "source": [
    "data_dir = '/mnt/d/indennt'"
   ]
  },
  {
   "cell_type": "code",
   "execution_count": 15,
   "id": "c491c2cb-cf11-4da7-8eff-dec37cb320b8",
   "metadata": {},
   "outputs": [],
   "source": [
    "frames = [path_to_df(f'{data_dir}/hyp3/AT151/*/*/*', track='AT151'),\n",
    "          path_to_df(f'{data_dir}/hyp3/DT56/*/*/*', track='DT56'),\n",
    "          path_to_df(f'{data_dir}/hyp3_app/AT137/*/*', track='AT137')]\n",
    "\n",
    "df = pd.concat(frames, ignore_index=True)"
   ]
  },
  {
   "cell_type": "code",
   "execution_count": 17,
   "id": "456c8322-2aca-41be-8a9b-2412d0860c72",
   "metadata": {},
   "outputs": [],
   "source": [
    "df.to_csv('../../figures_for_manuscript/supptable1_all_igrams/all_igrams.csv')"
   ]
  }
 ],
 "metadata": {
  "kernelspec": {
   "display_name": "Python 3 (ipykernel)",
   "language": "python",
   "name": "python3"
  },
  "language_info": {
   "codemirror_mode": {
    "name": "ipython",
    "version": 3
   },
   "file_extension": ".py",
   "mimetype": "text/x-python",
   "name": "python",
   "nbconvert_exporter": "python",
   "pygments_lexer": "ipython3",
   "version": "3.8.16"
  }
 },
 "nbformat": 4,
 "nbformat_minor": 5
}
