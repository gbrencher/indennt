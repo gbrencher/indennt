{
 "cells": [
  {
   "cell_type": "code",
   "execution_count": 1,
   "id": "174ec51a-ef4a-470b-b3ba-2f329177bbd0",
   "metadata": {},
   "outputs": [],
   "source": [
    "import sys\n",
    "import matplotlib.pyplot as plt\n",
    "from glob import glob\n",
    "import xarray as xr\n",
    "import rasterio as rio\n",
    "import rioxarray\n",
    "import os\n",
    "import numpy as np\n",
    "import pandas as pd"
   ]
  },
  {
   "cell_type": "code",
   "execution_count": 2,
   "id": "0123ee5a-1cde-4e3e-b160-905e0c90f33e",
   "metadata": {
    "scrolled": true
   },
   "outputs": [],
   "source": [
    "#!{sys.executable} -m pip install phase_o_matic"
   ]
  },
  {
   "cell_type": "code",
   "execution_count": 3,
   "id": "8b319df8-c4ba-430a-9a21-0134196d7e63",
   "metadata": {},
   "outputs": [],
   "source": [
    "from phase_o_matic import presto_phase_delay"
   ]
  },
  {
   "cell_type": "code",
   "execution_count": 4,
   "id": "a0ce4156-1505-472b-9e19-4083d24bde68",
   "metadata": {},
   "outputs": [],
   "source": [
    "orbit = 'DT56'\n",
    "year_list = ['2018', '2019', '2020', '2021', '2022']\n",
    "frame = 'frame_3'"
   ]
  },
  {
   "cell_type": "code",
   "execution_count": 5,
   "id": "8eaf805d-84a8-4813-a1f6-d012c8e35e89",
   "metadata": {},
   "outputs": [],
   "source": [
    "# load in single igram and other data \n",
    "def hyp3_to_xarray_single(path):\n",
    "    '''\n",
    "    Reads unwrapped phase, coherence, and DEM into xarray dataset from single hyp3 folder \n",
    "    '''\n",
    "    # globs for data to load\n",
    "    unw_phase_path = glob(f'{path}/*unw_phase.tif')[0]\n",
    "    dem_path = glob(f'{path}/*dem.tif')[0]\n",
    "    inc_path = glob(f'{path}/*inc_map.tif')[0]\n",
    "\n",
    "    # list granules for coordinate\n",
    "    granule = os.path.split(unw_phase_path)[-1][0:-14]\n",
    "\n",
    "    # read unw_phase into data array and assign coordinates\n",
    "    da = xr.open_dataset(unw_phase_path)\n",
    "    da = da.assign_coords({'granule':('granule', [granule])})\n",
    "    \n",
    "    # concatenate into dataset and rename variable\n",
    "    ds = da.rename({'band_data': 'unw_phase'})\n",
    "\n",
    "    #open coherence and dem into datasets\n",
    "    inc_ds = xr.open_dataset(inc_path)\n",
    "    dem_ds = xr.open_dataset(dem_path)\n",
    "\n",
    "    # add coherence and dem to unw_phase dataset\n",
    "    ds['inc_angle'] = (('band', 'y', 'x'), inc_ds.band_data.values)\n",
    "    ds['elevation'] = (('band', 'y', 'x'), dem_ds.band_data.values)\n",
    "\n",
    "    # remove band coordinate\n",
    "    ds = ds.squeeze()\n",
    "\n",
    "    return ds"
   ]
  },
  {
   "cell_type": "code",
   "execution_count": 6,
   "id": "3c42924b-5dd0-45b8-94bf-1b7a4b4fc709",
   "metadata": {},
   "outputs": [],
   "source": [
    "def calc_delay(ds, work_dir):\n",
    "    \"\"\"\n",
    "    calculate ERA5 delays with phase-o-matic\n",
    "    \"\"\"\n",
    "    time1 = pd.to_datetime(ds.granule.item()[5:20], utc=True)\n",
    "    time2 = pd.to_datetime(ds.granule.item()[21:36], utc=True)\n",
    "\n",
    "    t1 = presto_phase_delay(date=time1, dem=ds.elevation, inc=ds.inc_angle, work_dir=work_dir, wavelength=0.55465763)\n",
    "    t2 = presto_phase_delay(date=time2, dem=ds.elevation, inc=ds.inc_angle, work_dir=work_dir, wavelength=0.55465763)\n",
    "\n",
    "    delay_change = t2.isel(time = 0)['delay'] - t1.isel(time = 0)['delay']\n",
    "    \n",
    "    ds['unw_phase_era5'] = (('y', 'x'), delay_change.values) \n",
    "\n",
    "    return ds"
   ]
  },
  {
   "cell_type": "code",
   "execution_count": 7,
   "id": "bb27f6bb-3737-4971-9ecc-57c89fe7554e",
   "metadata": {},
   "outputs": [],
   "source": [
    "def calc_save_delays(hyp3_path, work_dir):\n",
    "    hyp3_list = os.listdir(hyp3_path)\n",
    "    for granule in hyp3_list:\n",
    "        print(f'working on {granule}')\n",
    "        granule_path = f'{hyp3_path}/{granule}'\n",
    "        \n",
    "        print('opening dataset')\n",
    "        ds = hyp3_to_xarray_single(granule_path)\n",
    "\n",
    "        ds_wgs = ds.rio.reproject(4326, nodata=np.nan)\n",
    "        ds_wgs = ds_wgs.rename({'y':'latitude', 'x':'longitude'})\n",
    "        print('calculating era5 delays')\n",
    "        ds_wgs = calc_delay(ds_wgs, work_dir)\n",
    "        ds = ds_wgs.reproject_match(ds)\n",
    "        fn = f'{granule}_unw_phase_era5.tif'\n",
    "        \n",
    "        print(f'saving {fn}')\n",
    "        ds.unw_phase_era5.rio.to_raster(f'{granule_path}/{fn}.tif')\n",
    "    print('done')"
   ]
  },
  {
   "cell_type": "code",
   "execution_count": 8,
   "id": "54fe0dbe-9219-41ab-98c3-30b4f6873ed5",
   "metadata": {},
   "outputs": [],
   "source": [
    "def multiyear_era5(orbit, year_list, frame_list):\n",
    "    # hardcoded paths for now \n",
    "    home_path = '/mnt/c/Users/qbren/Desktop/taco/projects/indennt/proc/data'\n",
    "    for frame in frame_list:\n",
    "        print(f'working on {frame}')\n",
    "        for year in year_list:\n",
    "            print(f'working on {year}')\n",
    "            data_path = f'{home_path}/hyp3/{orbit}/{frame}/{year}'\n",
    "            \n",
    "            calc_save_delays(data_path, '/tmp')"
   ]
  },
  {
   "cell_type": "code",
   "execution_count": null,
   "id": "04df23b7-696b-4b18-9277-8ed4da2d970a",
   "metadata": {
    "scrolled": true
   },
   "outputs": [
    {
     "name": "stdout",
     "output_type": "stream",
     "text": [
      "working on frame_3\n",
      "working on 2017\n",
      "working on S1AA_20170607T130955_20170619T130955_VVP012_INT40_G_ueF_3D12\n",
      "opening dataset\n",
      "calculating era5 delays\n"
     ]
    }
   ],
   "source": [
    "multiyear_era5(orbit, [year], [frame])"
   ]
  }
 ],
 "metadata": {
  "kernelspec": {
   "display_name": "Python [conda env:spicy]",
   "language": "python",
   "name": "conda-env-spicy-py"
  },
  "language_info": {
   "codemirror_mode": {
    "name": "ipython",
    "version": 3
   },
   "file_extension": ".py",
   "mimetype": "text/x-python",
   "name": "python",
   "nbconvert_exporter": "python",
   "pygments_lexer": "ipython3",
   "version": "3.11.3"
  }
 },
 "nbformat": 4,
 "nbformat_minor": 5
}
