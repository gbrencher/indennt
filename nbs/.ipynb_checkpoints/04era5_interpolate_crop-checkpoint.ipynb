{
 "cells": [
  {
   "cell_type": "code",
   "execution_count": null,
   "id": "174ec51a-ef4a-470b-b3ba-2f329177bbd0",
   "metadata": {},
   "outputs": [],
   "source": [
    "import sys\n",
    "import matplotlib.pyplot as plt\n",
    "from glob import glob\n",
    "import xarray as xr\n",
    "import rasterio as rio\n",
    "import rioxarray\n",
    "import os\n",
    "import numpy as np"
   ]
  },
  {
   "cell_type": "code",
   "execution_count": null,
   "id": "0123ee5a-1cde-4e3e-b160-905e0c90f33e",
   "metadata": {},
   "outputs": [],
   "source": [
    "!{sys.executable} -m pip install phase_o_matic"
   ]
  },
  {
   "cell_type": "code",
   "execution_count": null,
   "id": "8b319df8-c4ba-430a-9a21-0134196d7e63",
   "metadata": {},
   "outputs": [],
   "source": [
    "from phase_o_matic import presto_phase_delay"
   ]
  },
  {
   "cell_type": "code",
   "execution_count": null,
   "id": "8eaf805d-84a8-4813-a1f6-d012c8e35e89",
   "metadata": {},
   "outputs": [],
   "source": [
    "# load in single igram and other data \n",
    "def hyp3_to_xarray_single(path):\n",
    "    '''\n",
    "    Reads unwrapped phase, coherence, and DEM into xarray dataset from single hyp3 folder \n",
    "    '''\n",
    "    # globs for data to load\n",
    "    unw_phase_path = glob(f'{path}/*unw_phase.tif')[0]\n",
    "    dem_path = glob(f'{hyp3_path}/*dem.tif')[0]\n",
    "    inc_path = glob(f'{hyp3_path}/*_inc_map.tif')\n",
    "    meta_path = glob(f'{hyp3_path}/*meta.txt')[0]\n",
    "\n",
    "    # list granules for coordinate\n",
    "    granule = os.path.split(unw_phase_path)[-1][0:-14]\n",
    "\n",
    "    # read metadata into dictionary\n",
    "    d = {}\n",
    "    with open(meta_path) as f:\n",
    "        for line in f:\n",
    "            (key, val) = line.split(':')\n",
    "            d[key] = str.strip(val)\n",
    "\n",
    "    # read unw_phase into data array and assign coordinates\n",
    "    da = xr.open_dataset(unw_phase_path)\n",
    "    for item in d.keys():\n",
    "        da = da.assign_coords({'granule':('granule', [granule])})\n",
    "        da = da.assign_coords({item:('granule', [d[item]])})\n",
    "    # concatenate into dataset and rename variable\n",
    "    ds = da.rename({'band_data': 'unw_phase'})\n",
    "\n",
    "    #open coherence and dem into datasets\n",
    "    inc_ds = xr.open_dataset(inc_path)\n",
    "    dem_ds = xr.open_dataset(dem_path)\n",
    "\n",
    "    # add coherence and dem to unw_phase dataset\n",
    "    ds['inc_angle'] = (('band', 'y', 'x'), inc_ds.band_data.values)\n",
    "    ds['elevation'] = (('band', 'y', 'x'), dem_ds.band_data.values)\n",
    "\n",
    "    # remove band coordinate\n",
    "    ds = ds.squeeze()\n",
    "\n",
    "    return ds"
   ]
  },
  {
   "cell_type": "code",
   "execution_count": null,
   "id": "8cc9f496-4149-46e1-a0aa-d6479982c619",
   "metadata": {},
   "outputs": [],
   "source": []
  },
  {
   "cell_type": "code",
   "execution_count": null,
   "id": "3c42924b-5dd0-45b8-94bf-1b7a4b4fc709",
   "metadata": {},
   "outputs": [],
   "source": [
    "def calc_delay(ds, work_dir):\n",
    "    \"\"\"\n",
    "    \"\"\"\n",
    "    time1 = pd.to_datetime(ds.granule[0].item()[5:20], utc=True)\n",
    "    time2 = pd.to_datetime(ds.granule[0].item()[21:36], utc=True)\n",
    "\n",
    "    t1 = presto_phase_delay(date=time1, dem=ds.elevation, inc=ds.inc_angle, work_dir=work_dir, wavelength=0.55465763)\n",
    "    t2 = presto_phase_delay(date=time2, dem=ds.elevation, inc=ds.inc_angle, work_dir=work_dir, wavelength=0.55465763)\n",
    "\n",
    "    delay_change = t2.isel(time = 0)['delay'] - t1.isel(time = 0)['delay']\n",
    "    \n",
    "    ds['era5_phase'] = (('y', 'x'), delay_change.values) \n",
    "\n",
    "    return ds"
   ]
  },
  {
   "cell_type": "code",
   "execution_count": null,
   "id": "b97e8f89-ab7b-44cc-a5cd-a8ba912ba375",
   "metadata": {},
   "outputs": [],
   "source": [
    "def interpolate_gaps():"
   ]
  },
  {
   "cell_type": "code",
   "execution_count": null,
   "id": "6b9d0c8a-afb1-43ce-9eea-c69debf23d98",
   "metadata": {},
   "outputs": [],
   "source": [
    "def crop_to_tiles:"
   ]
  },
  {
   "cell_type": "code",
   "execution_count": null,
   "id": "bb27f6bb-3737-4971-9ecc-57c89fe7554e",
   "metadata": {},
   "outputs": [],
   "source": [
    "def data_to_hyp3:  "
   ]
  }
 ],
 "metadata": {
  "kernelspec": {
   "display_name": "Python 3 (ipykernel)",
   "language": "python",
   "name": "python3"
  },
  "language_info": {
   "codemirror_mode": {
    "name": "ipython",
    "version": 3
   },
   "file_extension": ".py",
   "mimetype": "text/x-python",
   "name": "python",
   "nbconvert_exporter": "python",
   "pygments_lexer": "ipython3",
   "version": "3.8.16"
  }
 },
 "nbformat": 4,
 "nbformat_minor": 5
}
