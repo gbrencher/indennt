{
 "cells": [
  {
   "cell_type": "code",
   "execution_count": null,
   "id": "b1a8dec2-59ea-4f04-b716-bd744c231a8d",
   "metadata": {},
   "outputs": [],
   "source": [
    "import os\n",
    "import numpy as np\n",
    "import pandas as pd\n",
    "import rasterio as rio\n",
    "import matplotlib.pyplot as plt\n",
    "import xarray as xr\n",
    "import datetime as dt\n",
    "import rioxarray\n",
    "import seaborn as sns\n",
    "import geopandas as gpd"
   ]
  },
  {
   "cell_type": "code",
   "execution_count": null,
   "id": "4bac66e7-6a4c-4876-bf5b-a101429e1ce0",
   "metadata": {},
   "outputs": [],
   "source": [
    "# function to rewrite coordinates from metadata\n",
    "def coord_range(ds):\n",
    "    latrange = np.linspace(float(ds.attrs['Y_FIRST']),\n",
    "                           ((float(ds.attrs['Y_STEP'])*float(ds.attrs['LENGTH']))+float(ds.attrs['Y_FIRST'])),\n",
    "                           int(ds.attrs['LENGTH']))\n",
    "    lonrange = np.linspace(float(ds.attrs['X_FIRST']),\n",
    "                           ((float(ds.attrs['X_STEP'])*float(ds.attrs['WIDTH']))+float(ds.attrs['X_FIRST'])),\n",
    "                           int(ds.attrs['WIDTH']))\n",
    "    return latrange, lonrange\n",
    "\n",
    "def mintpy2d_to_xarray(fn, crs):\n",
    "    ds = xr.open_dataset(fn)\n",
    "    ds = ds.rename_dims({'phony_dim_0':'y',\n",
    "                         'phony_dim_1':'x'\n",
    "                        })\n",
    "    latrange, lonrange = coord_range(ds)\n",
    "    ds = ds.assign_coords({'y': ('y', latrange),\n",
    "                           'x': ('x', lonrange)})\n",
    "    ds = ds.rio.write_crs(crs)\n",
    "    \n",
    "    return ds"
   ]
  },
  {
   "cell_type": "code",
   "execution_count": null,
   "id": "ef0b84f9-960e-4132-8573-fe99254e08be",
   "metadata": {},
   "outputs": [],
   "source": [
    "orbit = 'DT56'\n",
    "year = '2017'\n",
    "frame = 'frame_3'\n",
    "mintpy_path = f'../proc/data/signal_mintpy/{orbit}_crop/{frame}/mintpy_{year}'\n",
    "output_path = f'../proc/data/signal_maps/{orbit}_{frame}_{year}_signal.tif'"
   ]
  },
  {
   "cell_type": "code",
   "execution_count": null,
   "id": "7802a3ab-a143-4758-bbfd-ad17286e9597",
   "metadata": {},
   "outputs": [],
   "source": [
    "vel_ds = mintpy2d_to_xarray(f'{mintpy_path}/velocity.h5', 32613)"
   ]
  },
  {
   "cell_type": "code",
   "execution_count": null,
   "id": "55537f44-1721-434b-91bb-08c92fc936d9",
   "metadata": {},
   "outputs": [],
   "source": [
    "# save to geotiff\n",
    "vel_ds.velocity.rio.to_raster(output_path)"
   ]
  }
 ],
 "metadata": {
  "kernelspec": {
   "display_name": "Python 3 (ipykernel)",
   "language": "python",
   "name": "python3"
  },
  "language_info": {
   "codemirror_mode": {
    "name": "ipython",
    "version": 3
   },
   "file_extension": ".py",
   "mimetype": "text/x-python",
   "name": "python",
   "nbconvert_exporter": "python",
   "pygments_lexer": "ipython3",
   "version": "3.8.16"
  }
 },
 "nbformat": 4,
 "nbformat_minor": 5
}
